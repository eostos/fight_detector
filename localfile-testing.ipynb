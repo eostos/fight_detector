{
 "cells": [
  {
   "cell_type": "code",
   "execution_count": 1,
   "metadata": {},
   "outputs": [
    {
     "name": "stdout",
     "output_type": "stream",
     "text": [
      "\u001b[33mWARNING: Ignoring invalid distribution -ensorflow-gpu (/edgar1/datase_license_plate/venv/lib/python3.6/site-packages)\u001b[0m\n",
      "\u001b[33mWARNING: Ignoring invalid distribution -ensorflow-estimator (/edgar1/datase_license_plate/venv/lib/python3.6/site-packages)\u001b[0m\n",
      "\u001b[33mWARNING: Ignoring invalid distribution -ensorboard (/edgar1/datase_license_plate/venv/lib/python3.6/site-packages)\u001b[0m\n",
      "\u001b[33mWARNING: Ignoring invalid distribution -ecorator (/edgar1/datase_license_plate/venv/lib/python3.6/site-packages)\u001b[0m\n",
      "\u001b[33mWARNING: Ignoring invalid distribution -ensorflow-gpu (/edgar1/datase_license_plate/venv/lib/python3.6/site-packages)\u001b[0m\n",
      "\u001b[33mWARNING: Ignoring invalid distribution -ensorflow-estimator (/edgar1/datase_license_plate/venv/lib/python3.6/site-packages)\u001b[0m\n",
      "\u001b[33mWARNING: Ignoring invalid distribution -ensorboard (/edgar1/datase_license_plate/venv/lib/python3.6/site-packages)\u001b[0m\n",
      "\u001b[33mWARNING: Ignoring invalid distribution -ecorator (/edgar1/datase_license_plate/venv/lib/python3.6/site-packages)\u001b[0m\n",
      "Requirement already satisfied: tensorflow-gpu==2.0. in /edgar1/datase_license_plate/venv/lib/python3.6/site-packages (2.0.0)\n",
      "Requirement already satisfied: opt-einsum>=2.3.2 in /edgar1/datase_license_plate/venv/lib/python3.6/site-packages (from tensorflow-gpu==2.0.) (3.3.0)\n",
      "Requirement already satisfied: protobuf>=3.6.1 in /edgar1/datase_license_plate/venv/lib/python3.6/site-packages (from tensorflow-gpu==2.0.) (3.19.6)\n",
      "Requirement already satisfied: wheel>=0.26 in /edgar1/datase_license_plate/venv/lib/python3.6/site-packages (from tensorflow-gpu==2.0.) (0.37.1)\n",
      "Requirement already satisfied: gast==0.2.2 in /edgar1/datase_license_plate/venv/lib/python3.6/site-packages (from tensorflow-gpu==2.0.) (0.2.2)\n",
      "Requirement already satisfied: tensorflow-estimator<2.1.0,>=2.0.0 in /edgar1/datase_license_plate/venv/lib/python3.6/site-packages (from tensorflow-gpu==2.0.) (2.0.1)\n",
      "Requirement already satisfied: keras-applications>=1.0.8 in /edgar1/datase_license_plate/venv/lib/python3.6/site-packages (from tensorflow-gpu==2.0.) (1.0.8)\n",
      "Requirement already satisfied: keras-preprocessing>=1.0.5 in /edgar1/datase_license_plate/venv/lib/python3.6/site-packages (from tensorflow-gpu==2.0.) (1.1.2)\n",
      "Requirement already satisfied: termcolor>=1.1.0 in /edgar1/datase_license_plate/venv/lib/python3.6/site-packages (from tensorflow-gpu==2.0.) (1.1.0)\n",
      "Requirement already satisfied: wrapt>=1.11.1 in /edgar1/datase_license_plate/venv/lib/python3.6/site-packages (from tensorflow-gpu==2.0.) (1.12.1)\n",
      "Requirement already satisfied: grpcio>=1.8.6 in /edgar1/datase_license_plate/venv/lib/python3.6/site-packages (from tensorflow-gpu==2.0.) (1.48.2)\n",
      "Requirement already satisfied: tensorboard<2.1.0,>=2.0.0 in /edgar1/datase_license_plate/venv/lib/python3.6/site-packages (from tensorflow-gpu==2.0.) (2.0.2)\n",
      "Requirement already satisfied: six>=1.10.0 in /edgar1/datase_license_plate/venv/lib/python3.6/site-packages (from tensorflow-gpu==2.0.) (1.16.0)\n",
      "Requirement already satisfied: numpy<2.0,>=1.16.0 in /edgar1/datase_license_plate/venv/lib/python3.6/site-packages (from tensorflow-gpu==2.0.) (1.19.5)\n",
      "Requirement already satisfied: google-pasta>=0.1.6 in /edgar1/datase_license_plate/venv/lib/python3.6/site-packages (from tensorflow-gpu==2.0.) (0.2.0)\n",
      "Requirement already satisfied: absl-py>=0.7.0 in /edgar1/datase_license_plate/venv/lib/python3.6/site-packages (from tensorflow-gpu==2.0.) (0.15.0)\n",
      "Requirement already satisfied: astor>=0.6.0 in /edgar1/datase_license_plate/venv/lib/python3.6/site-packages (from tensorflow-gpu==2.0.) (0.8.1)\n",
      "Requirement already satisfied: h5py in /edgar1/datase_license_plate/venv/lib/python3.6/site-packages (from keras-applications>=1.0.8->tensorflow-gpu==2.0.) (2.10.0)\n",
      "Requirement already satisfied: google-auth<2,>=1.6.3 in /edgar1/datase_license_plate/venv/lib/python3.6/site-packages (from tensorboard<2.1.0,>=2.0.0->tensorflow-gpu==2.0.) (1.35.0)\n",
      "Requirement already satisfied: markdown>=2.6.8 in /edgar1/datase_license_plate/venv/lib/python3.6/site-packages (from tensorboard<2.1.0,>=2.0.0->tensorflow-gpu==2.0.) (3.3.7)\n",
      "Requirement already satisfied: setuptools>=41.0.0 in /edgar1/datase_license_plate/venv/lib/python3.6/site-packages (from tensorboard<2.1.0,>=2.0.0->tensorflow-gpu==2.0.) (59.6.0)\n",
      "Requirement already satisfied: werkzeug>=0.11.15 in /edgar1/datase_license_plate/venv/lib/python3.6/site-packages (from tensorboard<2.1.0,>=2.0.0->tensorflow-gpu==2.0.) (2.0.3)\n",
      "Requirement already satisfied: requests<3,>=2.21.0 in /edgar1/datase_license_plate/venv/lib/python3.6/site-packages (from tensorboard<2.1.0,>=2.0.0->tensorflow-gpu==2.0.) (2.27.1)\n",
      "Requirement already satisfied: google-auth-oauthlib<0.5,>=0.4.1 in /edgar1/datase_license_plate/venv/lib/python3.6/site-packages (from tensorboard<2.1.0,>=2.0.0->tensorflow-gpu==2.0.) (0.4.6)\n",
      "Requirement already satisfied: cachetools<5.0,>=2.0.0 in /edgar1/datase_license_plate/venv/lib/python3.6/site-packages (from google-auth<2,>=1.6.3->tensorboard<2.1.0,>=2.0.0->tensorflow-gpu==2.0.) (4.2.4)\n",
      "Requirement already satisfied: rsa<5,>=3.1.4 in /edgar1/datase_license_plate/venv/lib/python3.6/site-packages (from google-auth<2,>=1.6.3->tensorboard<2.1.0,>=2.0.0->tensorflow-gpu==2.0.) (4.9)\n",
      "Requirement already satisfied: pyasn1-modules>=0.2.1 in /edgar1/datase_license_plate/venv/lib/python3.6/site-packages (from google-auth<2,>=1.6.3->tensorboard<2.1.0,>=2.0.0->tensorflow-gpu==2.0.) (0.3.0)\n",
      "Requirement already satisfied: requests-oauthlib>=0.7.0 in /edgar1/datase_license_plate/venv/lib/python3.6/site-packages (from google-auth-oauthlib<0.5,>=0.4.1->tensorboard<2.1.0,>=2.0.0->tensorflow-gpu==2.0.) (1.3.1)\n",
      "Requirement already satisfied: importlib-metadata>=4.4 in /edgar1/datase_license_plate/venv/lib/python3.6/site-packages (from markdown>=2.6.8->tensorboard<2.1.0,>=2.0.0->tensorflow-gpu==2.0.) (4.8.3)\n",
      "Requirement already satisfied: urllib3<1.27,>=1.21.1 in /edgar1/datase_license_plate/venv/lib/python3.6/site-packages (from requests<3,>=2.21.0->tensorboard<2.1.0,>=2.0.0->tensorflow-gpu==2.0.) (1.26.18)\n",
      "Requirement already satisfied: idna<4,>=2.5 in /edgar1/datase_license_plate/venv/lib/python3.6/site-packages (from requests<3,>=2.21.0->tensorboard<2.1.0,>=2.0.0->tensorflow-gpu==2.0.) (3.6)\n",
      "Requirement already satisfied: charset-normalizer~=2.0.0 in /edgar1/datase_license_plate/venv/lib/python3.6/site-packages (from requests<3,>=2.21.0->tensorboard<2.1.0,>=2.0.0->tensorflow-gpu==2.0.) (2.0.12)\n",
      "Requirement already satisfied: certifi>=2017.4.17 in /edgar1/datase_license_plate/venv/lib/python3.6/site-packages (from requests<3,>=2.21.0->tensorboard<2.1.0,>=2.0.0->tensorflow-gpu==2.0.) (2023.11.17)\n",
      "Requirement already satisfied: dataclasses in /edgar1/datase_license_plate/venv/lib/python3.6/site-packages (from werkzeug>=0.11.15->tensorboard<2.1.0,>=2.0.0->tensorflow-gpu==2.0.) (0.8)\n",
      "Requirement already satisfied: typing-extensions>=3.6.4 in /edgar1/datase_license_plate/venv/lib/python3.6/site-packages (from importlib-metadata>=4.4->markdown>=2.6.8->tensorboard<2.1.0,>=2.0.0->tensorflow-gpu==2.0.) (3.7.4.3)\n",
      "Requirement already satisfied: zipp>=0.5 in /edgar1/datase_license_plate/venv/lib/python3.6/site-packages (from importlib-metadata>=4.4->markdown>=2.6.8->tensorboard<2.1.0,>=2.0.0->tensorflow-gpu==2.0.) (3.6.0)\n",
      "Requirement already satisfied: pyasn1<0.6.0,>=0.4.6 in /edgar1/datase_license_plate/venv/lib/python3.6/site-packages (from pyasn1-modules>=0.2.1->google-auth<2,>=1.6.3->tensorboard<2.1.0,>=2.0.0->tensorflow-gpu==2.0.) (0.5.1)\n",
      "Requirement already satisfied: oauthlib>=3.0.0 in /edgar1/datase_license_plate/venv/lib/python3.6/site-packages (from requests-oauthlib>=0.7.0->google-auth-oauthlib<0.5,>=0.4.1->tensorboard<2.1.0,>=2.0.0->tensorflow-gpu==2.0.) (3.2.2)\n",
      "\u001b[33mWARNING: Ignoring invalid distribution -ensorflow-gpu (/edgar1/datase_license_plate/venv/lib/python3.6/site-packages)\u001b[0m\n",
      "\u001b[33mWARNING: Ignoring invalid distribution -ensorflow-estimator (/edgar1/datase_license_plate/venv/lib/python3.6/site-packages)\u001b[0m\n",
      "\u001b[33mWARNING: Ignoring invalid distribution -ensorboard (/edgar1/datase_license_plate/venv/lib/python3.6/site-packages)\u001b[0m\n",
      "\u001b[33mWARNING: Ignoring invalid distribution -ecorator (/edgar1/datase_license_plate/venv/lib/python3.6/site-packages)\u001b[0m\n",
      "\u001b[33mWARNING: Ignoring invalid distribution -ensorflow-gpu (/edgar1/datase_license_plate/venv/lib/python3.6/site-packages)\u001b[0m\n",
      "\u001b[33mWARNING: Ignoring invalid distribution -ensorflow-estimator (/edgar1/datase_license_plate/venv/lib/python3.6/site-packages)\u001b[0m\n",
      "\u001b[33mWARNING: Ignoring invalid distribution -ensorboard (/edgar1/datase_license_plate/venv/lib/python3.6/site-packages)\u001b[0m\n",
      "\u001b[33mWARNING: Ignoring invalid distribution -ecorator (/edgar1/datase_license_plate/venv/lib/python3.6/site-packages)\u001b[0m\n",
      "\u001b[33mWARNING: Ignoring invalid distribution -ensorflow-gpu (/edgar1/datase_license_plate/venv/lib/python3.6/site-packages)\u001b[0m\n",
      "\u001b[33mWARNING: Ignoring invalid distribution -ensorflow-estimator (/edgar1/datase_license_plate/venv/lib/python3.6/site-packages)\u001b[0m\n",
      "\u001b[33mWARNING: Ignoring invalid distribution -ensorboard (/edgar1/datase_license_plate/venv/lib/python3.6/site-packages)\u001b[0m\n",
      "\u001b[33mWARNING: Ignoring invalid distribution -ecorator (/edgar1/datase_license_plate/venv/lib/python3.6/site-packages)\u001b[0m\n",
      "\u001b[33mWARNING: Ignoring invalid distribution -ensorflow-gpu (/edgar1/datase_license_plate/venv/lib/python3.6/site-packages)\u001b[0m\n",
      "\u001b[33mWARNING: Ignoring invalid distribution -ensorflow-estimator (/edgar1/datase_license_plate/venv/lib/python3.6/site-packages)\u001b[0m\n",
      "\u001b[33mWARNING: Ignoring invalid distribution -ensorboard (/edgar1/datase_license_plate/venv/lib/python3.6/site-packages)\u001b[0m\n",
      "\u001b[33mWARNING: Ignoring invalid distribution -ecorator (/edgar1/datase_license_plate/venv/lib/python3.6/site-packages)\u001b[0m\n",
      "\u001b[33mWARNING: Ignoring invalid distribution -ensorflow-gpu (/edgar1/datase_license_plate/venv/lib/python3.6/site-packages)\u001b[0m\n",
      "\u001b[33mWARNING: Ignoring invalid distribution -ensorflow-estimator (/edgar1/datase_license_plate/venv/lib/python3.6/site-packages)\u001b[0m\n",
      "\u001b[33mWARNING: Ignoring invalid distribution -ensorboard (/edgar1/datase_license_plate/venv/lib/python3.6/site-packages)\u001b[0m\n",
      "\u001b[33mWARNING: Ignoring invalid distribution -ecorator (/edgar1/datase_license_plate/venv/lib/python3.6/site-packages)\u001b[0m\n",
      "Requirement already satisfied: keras==2.3.1 in /edgar1/datase_license_plate/venv/lib/python3.6/site-packages (2.3.1)\n",
      "Requirement already satisfied: six>=1.9.0 in /edgar1/datase_license_plate/venv/lib/python3.6/site-packages (from keras==2.3.1) (1.16.0)\n",
      "Requirement already satisfied: keras-preprocessing>=1.0.5 in /edgar1/datase_license_plate/venv/lib/python3.6/site-packages (from keras==2.3.1) (1.1.2)\n",
      "Requirement already satisfied: h5py in /edgar1/datase_license_plate/venv/lib/python3.6/site-packages (from keras==2.3.1) (2.10.0)\n",
      "Requirement already satisfied: numpy>=1.9.1 in /edgar1/datase_license_plate/venv/lib/python3.6/site-packages (from keras==2.3.1) (1.19.5)\n",
      "Requirement already satisfied: pyyaml in /edgar1/datase_license_plate/venv/lib/python3.6/site-packages (from keras==2.3.1) (6.0.1)\n",
      "Requirement already satisfied: scipy>=0.14 in /edgar1/datase_license_plate/venv/lib/python3.6/site-packages (from keras==2.3.1) (1.5.4)\n",
      "Requirement already satisfied: keras-applications>=1.0.6 in /edgar1/datase_license_plate/venv/lib/python3.6/site-packages (from keras==2.3.1) (1.0.8)\n",
      "\u001b[33mWARNING: Ignoring invalid distribution -ensorflow-gpu (/edgar1/datase_license_plate/venv/lib/python3.6/site-packages)\u001b[0m\n",
      "\u001b[33mWARNING: Ignoring invalid distribution -ensorflow-estimator (/edgar1/datase_license_plate/venv/lib/python3.6/site-packages)\u001b[0m\n",
      "\u001b[33mWARNING: Ignoring invalid distribution -ensorboard (/edgar1/datase_license_plate/venv/lib/python3.6/site-packages)\u001b[0m\n",
      "\u001b[33mWARNING: Ignoring invalid distribution -ecorator (/edgar1/datase_license_plate/venv/lib/python3.6/site-packages)\u001b[0m\n",
      "\u001b[33mWARNING: Ignoring invalid distribution -ensorflow-gpu (/edgar1/datase_license_plate/venv/lib/python3.6/site-packages)\u001b[0m\n",
      "\u001b[33mWARNING: Ignoring invalid distribution -ensorflow-estimator (/edgar1/datase_license_plate/venv/lib/python3.6/site-packages)\u001b[0m\n",
      "\u001b[33mWARNING: Ignoring invalid distribution -ensorboard (/edgar1/datase_license_plate/venv/lib/python3.6/site-packages)\u001b[0m\n",
      "\u001b[33mWARNING: Ignoring invalid distribution -ecorator (/edgar1/datase_license_plate/venv/lib/python3.6/site-packages)\u001b[0m\n",
      "\u001b[33mWARNING: Ignoring invalid distribution -ensorflow-gpu (/edgar1/datase_license_plate/venv/lib/python3.6/site-packages)\u001b[0m\n",
      "\u001b[33mWARNING: Ignoring invalid distribution -ensorflow-estimator (/edgar1/datase_license_plate/venv/lib/python3.6/site-packages)\u001b[0m\n",
      "\u001b[33mWARNING: Ignoring invalid distribution -ensorboard (/edgar1/datase_license_plate/venv/lib/python3.6/site-packages)\u001b[0m\n",
      "\u001b[33mWARNING: Ignoring invalid distribution -ecorator (/edgar1/datase_license_plate/venv/lib/python3.6/site-packages)\u001b[0m\n",
      "\u001b[33mWARNING: Ignoring invalid distribution -ensorflow-gpu (/edgar1/datase_license_plate/venv/lib/python3.6/site-packages)\u001b[0m\n",
      "\u001b[33mWARNING: Ignoring invalid distribution -ensorflow-estimator (/edgar1/datase_license_plate/venv/lib/python3.6/site-packages)\u001b[0m\n",
      "\u001b[33mWARNING: Ignoring invalid distribution -ensorboard (/edgar1/datase_license_plate/venv/lib/python3.6/site-packages)\u001b[0m\n",
      "\u001b[33mWARNING: Ignoring invalid distribution -ecorator (/edgar1/datase_license_plate/venv/lib/python3.6/site-packages)\u001b[0m\n",
      "\u001b[33mWARNING: Ignoring invalid distribution -ensorflow-gpu (/edgar1/datase_license_plate/venv/lib/python3.6/site-packages)\u001b[0m\n",
      "\u001b[33mWARNING: Ignoring invalid distribution -ensorflow-estimator (/edgar1/datase_license_plate/venv/lib/python3.6/site-packages)\u001b[0m\n",
      "\u001b[33mWARNING: Ignoring invalid distribution -ensorboard (/edgar1/datase_license_plate/venv/lib/python3.6/site-packages)\u001b[0m\n",
      "\u001b[33mWARNING: Ignoring invalid distribution -ecorator (/edgar1/datase_license_plate/venv/lib/python3.6/site-packages)\u001b[0m\n",
      "Collecting h5py==2.10.0\n",
      "  Using cached h5py-2.10.0-cp36-cp36m-manylinux1_x86_64.whl (2.9 MB)\n",
      "Collecting numpy>=1.7\n",
      "  Using cached numpy-1.19.5-cp36-cp36m-manylinux2010_x86_64.whl (14.8 MB)\n",
      "Collecting six\n",
      "  Using cached six-1.16.0-py2.py3-none-any.whl (11 kB)\n",
      "\u001b[33mWARNING: Ignoring invalid distribution -ensorflow-gpu (/edgar1/datase_license_plate/venv/lib/python3.6/site-packages)\u001b[0m\n",
      "\u001b[33mWARNING: Ignoring invalid distribution -ensorflow-estimator (/edgar1/datase_license_plate/venv/lib/python3.6/site-packages)\u001b[0m\n",
      "\u001b[33mWARNING: Ignoring invalid distribution -ensorboard (/edgar1/datase_license_plate/venv/lib/python3.6/site-packages)\u001b[0m\n",
      "\u001b[33mWARNING: Ignoring invalid distribution -ecorator (/edgar1/datase_license_plate/venv/lib/python3.6/site-packages)\u001b[0m\n",
      "Installing collected packages: six, numpy, h5py\n",
      "  Attempting uninstall: six\n",
      "\u001b[33m    WARNING: Ignoring invalid distribution -ensorflow-gpu (/edgar1/datase_license_plate/venv/lib/python3.6/site-packages)\u001b[0m\n",
      "\u001b[33m    WARNING: Ignoring invalid distribution -ensorflow-estimator (/edgar1/datase_license_plate/venv/lib/python3.6/site-packages)\u001b[0m\n",
      "\u001b[33m    WARNING: Ignoring invalid distribution -ensorboard (/edgar1/datase_license_plate/venv/lib/python3.6/site-packages)\u001b[0m\n",
      "\u001b[33m    WARNING: Ignoring invalid distribution -ecorator (/edgar1/datase_license_plate/venv/lib/python3.6/site-packages)\u001b[0m\n",
      "    Found existing installation: six 1.16.0\n",
      "    Uninstalling six-1.16.0:\n",
      "      Successfully uninstalled six-1.16.0\n",
      "  Attempting uninstall: numpy\n",
      "\u001b[33m    WARNING: Ignoring invalid distribution -ensorflow-gpu (/edgar1/datase_license_plate/venv/lib/python3.6/site-packages)\u001b[0m\n",
      "\u001b[33m    WARNING: Ignoring invalid distribution -ensorflow-estimator (/edgar1/datase_license_plate/venv/lib/python3.6/site-packages)\u001b[0m\n",
      "\u001b[33m    WARNING: Ignoring invalid distribution -ensorboard (/edgar1/datase_license_plate/venv/lib/python3.6/site-packages)\u001b[0m\n",
      "\u001b[33m    WARNING: Ignoring invalid distribution -ecorator (/edgar1/datase_license_plate/venv/lib/python3.6/site-packages)\u001b[0m\n",
      "    Found existing installation: numpy 1.19.5\n",
      "    Uninstalling numpy-1.19.5:\n",
      "      Successfully uninstalled numpy-1.19.5\n",
      "  Attempting uninstall: h5py\n",
      "\u001b[33m    WARNING: Ignoring invalid distribution -ensorflow-gpu (/edgar1/datase_license_plate/venv/lib/python3.6/site-packages)\u001b[0m\n",
      "\u001b[33m    WARNING: Ignoring invalid distribution -ensorflow-estimator (/edgar1/datase_license_plate/venv/lib/python3.6/site-packages)\u001b[0m\n",
      "\u001b[33m    WARNING: Ignoring invalid distribution -ensorboard (/edgar1/datase_license_plate/venv/lib/python3.6/site-packages)\u001b[0m\n",
      "\u001b[33m    WARNING: Ignoring invalid distribution -ecorator (/edgar1/datase_license_plate/venv/lib/python3.6/site-packages)\u001b[0m\n",
      "    Found existing installation: h5py 2.10.0\n",
      "    Uninstalling h5py-2.10.0:\n",
      "      Successfully uninstalled h5py-2.10.0\n",
      "\u001b[33mWARNING: Ignoring invalid distribution -ensorflow-gpu (/edgar1/datase_license_plate/venv/lib/python3.6/site-packages)\u001b[0m\n",
      "\u001b[33mWARNING: Ignoring invalid distribution -ensorflow-estimator (/edgar1/datase_license_plate/venv/lib/python3.6/site-packages)\u001b[0m\n",
      "\u001b[33mWARNING: Ignoring invalid distribution -ensorboard (/edgar1/datase_license_plate/venv/lib/python3.6/site-packages)\u001b[0m\n",
      "\u001b[33mWARNING: Ignoring invalid distribution -ecorator (/edgar1/datase_license_plate/venv/lib/python3.6/site-packages)\u001b[0m\n",
      "\u001b[33mWARNING: Ignoring invalid distribution -ensorflow-gpu (/edgar1/datase_license_plate/venv/lib/python3.6/site-packages)\u001b[0m\n",
      "\u001b[33mWARNING: Ignoring invalid distribution -ensorflow-estimator (/edgar1/datase_license_plate/venv/lib/python3.6/site-packages)\u001b[0m\n",
      "\u001b[33mWARNING: Ignoring invalid distribution -ensorboard (/edgar1/datase_license_plate/venv/lib/python3.6/site-packages)\u001b[0m\n",
      "\u001b[33mWARNING: Ignoring invalid distribution -ecorator (/edgar1/datase_license_plate/venv/lib/python3.6/site-packages)\u001b[0m\n",
      "\u001b[33mWARNING: Ignoring invalid distribution -ensorflow-gpu (/edgar1/datase_license_plate/venv/lib/python3.6/site-packages)\u001b[0m\n",
      "\u001b[33mWARNING: Ignoring invalid distribution -ensorflow-estimator (/edgar1/datase_license_plate/venv/lib/python3.6/site-packages)\u001b[0m\n",
      "\u001b[33mWARNING: Ignoring invalid distribution -ensorboard (/edgar1/datase_license_plate/venv/lib/python3.6/site-packages)\u001b[0m\n",
      "\u001b[33mWARNING: Ignoring invalid distribution -ecorator (/edgar1/datase_license_plate/venv/lib/python3.6/site-packages)\u001b[0m\n",
      "Successfully installed h5py-2.10.0 numpy-1.19.5 six-1.16.0\n",
      "\u001b[33mWARNING: Ignoring invalid distribution -ensorflow-gpu (/edgar1/datase_license_plate/venv/lib/python3.6/site-packages)\u001b[0m\n",
      "\u001b[33mWARNING: Ignoring invalid distribution -ensorflow-estimator (/edgar1/datase_license_plate/venv/lib/python3.6/site-packages)\u001b[0m\n",
      "\u001b[33mWARNING: Ignoring invalid distribution -ensorboard (/edgar1/datase_license_plate/venv/lib/python3.6/site-packages)\u001b[0m\n",
      "\u001b[33mWARNING: Ignoring invalid distribution -ecorator (/edgar1/datase_license_plate/venv/lib/python3.6/site-packages)\u001b[0m\n",
      "\u001b[33mWARNING: Ignoring invalid distribution -ensorflow-gpu (/edgar1/datase_license_plate/venv/lib/python3.6/site-packages)\u001b[0m\n",
      "\u001b[33mWARNING: Ignoring invalid distribution -ensorflow-estimator (/edgar1/datase_license_plate/venv/lib/python3.6/site-packages)\u001b[0m\n",
      "\u001b[33mWARNING: Ignoring invalid distribution -ensorboard (/edgar1/datase_license_plate/venv/lib/python3.6/site-packages)\u001b[0m\n",
      "\u001b[33mWARNING: Ignoring invalid distribution -ecorator (/edgar1/datase_license_plate/venv/lib/python3.6/site-packages)\u001b[0m\n"
     ]
    }
   ],
   "source": [
    "!python3.6  -m pip install tensorflow-gpu==2.0.\n",
    "!python3.6 -m pip install keras==2.3.1\n",
    "!python3.6 -m pip install  'h5py==2.10.0' --force-reinstall"
   ]
  },
  {
   "cell_type": "code",
   "execution_count": 2,
   "metadata": {},
   "outputs": [
    {
     "name": "stdout",
     "output_type": "stream",
     "text": [
      "\u001b[33mWARNING: Ignoring invalid distribution -ensorflow-gpu (/edgar1/datase_license_plate/venv/lib/python3.6/site-packages)\u001b[0m\n",
      "\u001b[33mWARNING: Ignoring invalid distribution -ensorflow-estimator (/edgar1/datase_license_plate/venv/lib/python3.6/site-packages)\u001b[0m\n",
      "\u001b[33mWARNING: Ignoring invalid distribution -ensorboard (/edgar1/datase_license_plate/venv/lib/python3.6/site-packages)\u001b[0m\n",
      "\u001b[33mWARNING: Ignoring invalid distribution -ecorator (/edgar1/datase_license_plate/venv/lib/python3.6/site-packages)\u001b[0m\n",
      "\u001b[33mWARNING: Ignoring invalid distribution -ensorflow-gpu (/edgar1/datase_license_plate/venv/lib/python3.6/site-packages)\u001b[0m\n",
      "\u001b[33mWARNING: Ignoring invalid distribution -ensorflow-estimator (/edgar1/datase_license_plate/venv/lib/python3.6/site-packages)\u001b[0m\n",
      "\u001b[33mWARNING: Ignoring invalid distribution -ensorboard (/edgar1/datase_license_plate/venv/lib/python3.6/site-packages)\u001b[0m\n",
      "\u001b[33mWARNING: Ignoring invalid distribution -ecorator (/edgar1/datase_license_plate/venv/lib/python3.6/site-packages)\u001b[0m\n",
      "Requirement already satisfied: scikit-image in /edgar1/datase_license_plate/venv/lib/python3.6/site-packages (0.17.2)\n",
      "Requirement already satisfied: tifffile>=2019.7.26 in /edgar1/datase_license_plate/venv/lib/python3.6/site-packages (from scikit-image) (2020.9.3)\n",
      "Requirement already satisfied: scipy>=1.0.1 in /edgar1/datase_license_plate/venv/lib/python3.6/site-packages (from scikit-image) (1.5.4)\n",
      "Requirement already satisfied: pillow!=7.1.0,!=7.1.1,>=4.3.0 in /edgar1/datase_license_plate/venv/lib/python3.6/site-packages (from scikit-image) (8.4.0)\n",
      "Requirement already satisfied: networkx>=2.0 in /edgar1/datase_license_plate/venv/lib/python3.6/site-packages (from scikit-image) (2.5.1)\n",
      "Requirement already satisfied: imageio>=2.3.0 in /edgar1/datase_license_plate/venv/lib/python3.6/site-packages (from scikit-image) (2.15.0)\n",
      "Requirement already satisfied: PyWavelets>=1.1.1 in /edgar1/datase_license_plate/venv/lib/python3.6/site-packages (from scikit-image) (1.1.1)\n",
      "Requirement already satisfied: numpy>=1.15.1 in /edgar1/datase_license_plate/venv/lib/python3.6/site-packages (from scikit-image) (1.19.5)\n",
      "Requirement already satisfied: matplotlib!=3.0.0,>=2.0.0 in /edgar1/datase_license_plate/venv/lib/python3.6/site-packages (from scikit-image) (3.3.4)\n",
      "Requirement already satisfied: kiwisolver>=1.0.1 in /edgar1/datase_license_plate/venv/lib/python3.6/site-packages (from matplotlib!=3.0.0,>=2.0.0->scikit-image) (1.3.1)\n",
      "Requirement already satisfied: python-dateutil>=2.1 in /edgar1/datase_license_plate/venv/lib/python3.6/site-packages (from matplotlib!=3.0.0,>=2.0.0->scikit-image) (2.8.2)\n",
      "Requirement already satisfied: cycler>=0.10 in /edgar1/datase_license_plate/venv/lib/python3.6/site-packages (from matplotlib!=3.0.0,>=2.0.0->scikit-image) (0.11.0)\n",
      "Requirement already satisfied: pyparsing!=2.0.4,!=2.1.2,!=2.1.6,>=2.0.3 in /edgar1/datase_license_plate/venv/lib/python3.6/site-packages (from matplotlib!=3.0.0,>=2.0.0->scikit-image) (3.1.1)\n",
      "Requirement already satisfied: decorator<5,>=4.3 in /edgar1/datase_license_plate/venv/lib/python3.6/site-packages (from networkx>=2.0->scikit-image) (4.4.2)\n",
      "Requirement already satisfied: six>=1.5 in /edgar1/datase_license_plate/venv/lib/python3.6/site-packages (from python-dateutil>=2.1->matplotlib!=3.0.0,>=2.0.0->scikit-image) (1.16.0)\n",
      "\u001b[33mWARNING: Ignoring invalid distribution -ensorflow-gpu (/edgar1/datase_license_plate/venv/lib/python3.6/site-packages)\u001b[0m\n",
      "\u001b[33mWARNING: Ignoring invalid distribution -ensorflow-estimator (/edgar1/datase_license_plate/venv/lib/python3.6/site-packages)\u001b[0m\n",
      "\u001b[33mWARNING: Ignoring invalid distribution -ensorboard (/edgar1/datase_license_plate/venv/lib/python3.6/site-packages)\u001b[0m\n",
      "\u001b[33mWARNING: Ignoring invalid distribution -ecorator (/edgar1/datase_license_plate/venv/lib/python3.6/site-packages)\u001b[0m\n",
      "\u001b[33mWARNING: Ignoring invalid distribution -ensorflow-gpu (/edgar1/datase_license_plate/venv/lib/python3.6/site-packages)\u001b[0m\n",
      "\u001b[33mWARNING: Ignoring invalid distribution -ensorflow-estimator (/edgar1/datase_license_plate/venv/lib/python3.6/site-packages)\u001b[0m\n",
      "\u001b[33mWARNING: Ignoring invalid distribution -ensorboard (/edgar1/datase_license_plate/venv/lib/python3.6/site-packages)\u001b[0m\n",
      "\u001b[33mWARNING: Ignoring invalid distribution -ecorator (/edgar1/datase_license_plate/venv/lib/python3.6/site-packages)\u001b[0m\n",
      "\u001b[33mWARNING: Ignoring invalid distribution -ensorflow-gpu (/edgar1/datase_license_plate/venv/lib/python3.6/site-packages)\u001b[0m\n",
      "\u001b[33mWARNING: Ignoring invalid distribution -ensorflow-estimator (/edgar1/datase_license_plate/venv/lib/python3.6/site-packages)\u001b[0m\n",
      "\u001b[33mWARNING: Ignoring invalid distribution -ensorboard (/edgar1/datase_license_plate/venv/lib/python3.6/site-packages)\u001b[0m\n",
      "\u001b[33mWARNING: Ignoring invalid distribution -ecorator (/edgar1/datase_license_plate/venv/lib/python3.6/site-packages)\u001b[0m\n"
     ]
    }
   ],
   "source": [
    "!python3.6 -m pip install scikit-image\n"
   ]
  },
  {
   "cell_type": "code",
   "execution_count": 3,
   "metadata": {},
   "outputs": [
    {
     "name": "stdout",
     "output_type": "stream",
     "text": [
      "\u001b[33mWARNING: Ignoring invalid distribution -ensorflow-gpu (/edgar1/datase_license_plate/venv/lib/python3.6/site-packages)\u001b[0m\n",
      "\u001b[33mWARNING: Ignoring invalid distribution -ensorflow-estimator (/edgar1/datase_license_plate/venv/lib/python3.6/site-packages)\u001b[0m\n",
      "\u001b[33mWARNING: Ignoring invalid distribution -ensorboard (/edgar1/datase_license_plate/venv/lib/python3.6/site-packages)\u001b[0m\n",
      "\u001b[33mWARNING: Ignoring invalid distribution -ecorator (/edgar1/datase_license_plate/venv/lib/python3.6/site-packages)\u001b[0m\n",
      "\u001b[33mWARNING: Ignoring invalid distribution -ensorflow-gpu (/edgar1/datase_license_plate/venv/lib/python3.6/site-packages)\u001b[0m\n",
      "\u001b[33mWARNING: Ignoring invalid distribution -ensorflow-estimator (/edgar1/datase_license_plate/venv/lib/python3.6/site-packages)\u001b[0m\n",
      "\u001b[33mWARNING: Ignoring invalid distribution -ensorboard (/edgar1/datase_license_plate/venv/lib/python3.6/site-packages)\u001b[0m\n",
      "\u001b[33mWARNING: Ignoring invalid distribution -ecorator (/edgar1/datase_license_plate/venv/lib/python3.6/site-packages)\u001b[0m\n",
      "Requirement already satisfied: tensorflow==2.0.0 in /edgar1/datase_license_plate/venv/lib/python3.6/site-packages (2.0.0)\n",
      "Requirement already satisfied: absl-py>=0.7.0 in /edgar1/datase_license_plate/venv/lib/python3.6/site-packages (from tensorflow==2.0.0) (0.15.0)\n",
      "Requirement already satisfied: gast==0.2.2 in /edgar1/datase_license_plate/venv/lib/python3.6/site-packages (from tensorflow==2.0.0) (0.2.2)\n",
      "Requirement already satisfied: keras-preprocessing>=1.0.5 in /edgar1/datase_license_plate/venv/lib/python3.6/site-packages (from tensorflow==2.0.0) (1.1.2)\n",
      "Requirement already satisfied: keras-applications>=1.0.8 in /edgar1/datase_license_plate/venv/lib/python3.6/site-packages (from tensorflow==2.0.0) (1.0.8)\n",
      "Requirement already satisfied: astor>=0.6.0 in /edgar1/datase_license_plate/venv/lib/python3.6/site-packages (from tensorflow==2.0.0) (0.8.1)\n",
      "Requirement already satisfied: tensorboard<2.1.0,>=2.0.0 in /edgar1/datase_license_plate/venv/lib/python3.6/site-packages (from tensorflow==2.0.0) (2.0.2)\n",
      "Requirement already satisfied: wrapt>=1.11.1 in /edgar1/datase_license_plate/venv/lib/python3.6/site-packages (from tensorflow==2.0.0) (1.12.1)\n",
      "Requirement already satisfied: tensorflow-estimator<2.1.0,>=2.0.0 in /edgar1/datase_license_plate/venv/lib/python3.6/site-packages (from tensorflow==2.0.0) (2.0.1)\n",
      "Requirement already satisfied: six>=1.10.0 in /edgar1/datase_license_plate/venv/lib/python3.6/site-packages (from tensorflow==2.0.0) (1.16.0)\n",
      "Requirement already satisfied: grpcio>=1.8.6 in /edgar1/datase_license_plate/venv/lib/python3.6/site-packages (from tensorflow==2.0.0) (1.48.2)\n",
      "Requirement already satisfied: numpy<2.0,>=1.16.0 in /edgar1/datase_license_plate/venv/lib/python3.6/site-packages (from tensorflow==2.0.0) (1.19.5)\n",
      "Requirement already satisfied: wheel>=0.26 in /edgar1/datase_license_plate/venv/lib/python3.6/site-packages (from tensorflow==2.0.0) (0.37.1)\n",
      "Requirement already satisfied: google-pasta>=0.1.6 in /edgar1/datase_license_plate/venv/lib/python3.6/site-packages (from tensorflow==2.0.0) (0.2.0)\n",
      "Requirement already satisfied: protobuf>=3.6.1 in /edgar1/datase_license_plate/venv/lib/python3.6/site-packages (from tensorflow==2.0.0) (3.19.6)\n",
      "Requirement already satisfied: termcolor>=1.1.0 in /edgar1/datase_license_plate/venv/lib/python3.6/site-packages (from tensorflow==2.0.0) (1.1.0)\n",
      "Requirement already satisfied: opt-einsum>=2.3.2 in /edgar1/datase_license_plate/venv/lib/python3.6/site-packages (from tensorflow==2.0.0) (3.3.0)\n",
      "Requirement already satisfied: h5py in /edgar1/datase_license_plate/venv/lib/python3.6/site-packages (from keras-applications>=1.0.8->tensorflow==2.0.0) (2.10.0)\n",
      "Requirement already satisfied: markdown>=2.6.8 in /edgar1/datase_license_plate/venv/lib/python3.6/site-packages (from tensorboard<2.1.0,>=2.0.0->tensorflow==2.0.0) (3.3.7)\n",
      "Requirement already satisfied: google-auth<2,>=1.6.3 in /edgar1/datase_license_plate/venv/lib/python3.6/site-packages (from tensorboard<2.1.0,>=2.0.0->tensorflow==2.0.0) (1.35.0)\n",
      "Requirement already satisfied: setuptools>=41.0.0 in /edgar1/datase_license_plate/venv/lib/python3.6/site-packages (from tensorboard<2.1.0,>=2.0.0->tensorflow==2.0.0) (59.6.0)\n",
      "Requirement already satisfied: werkzeug>=0.11.15 in /edgar1/datase_license_plate/venv/lib/python3.6/site-packages (from tensorboard<2.1.0,>=2.0.0->tensorflow==2.0.0) (2.0.3)\n",
      "Requirement already satisfied: google-auth-oauthlib<0.5,>=0.4.1 in /edgar1/datase_license_plate/venv/lib/python3.6/site-packages (from tensorboard<2.1.0,>=2.0.0->tensorflow==2.0.0) (0.4.6)\n",
      "Requirement already satisfied: requests<3,>=2.21.0 in /edgar1/datase_license_plate/venv/lib/python3.6/site-packages (from tensorboard<2.1.0,>=2.0.0->tensorflow==2.0.0) (2.27.1)\n",
      "Requirement already satisfied: cachetools<5.0,>=2.0.0 in /edgar1/datase_license_plate/venv/lib/python3.6/site-packages (from google-auth<2,>=1.6.3->tensorboard<2.1.0,>=2.0.0->tensorflow==2.0.0) (4.2.4)\n",
      "Requirement already satisfied: rsa<5,>=3.1.4 in /edgar1/datase_license_plate/venv/lib/python3.6/site-packages (from google-auth<2,>=1.6.3->tensorboard<2.1.0,>=2.0.0->tensorflow==2.0.0) (4.9)\n",
      "Requirement already satisfied: pyasn1-modules>=0.2.1 in /edgar1/datase_license_plate/venv/lib/python3.6/site-packages (from google-auth<2,>=1.6.3->tensorboard<2.1.0,>=2.0.0->tensorflow==2.0.0) (0.3.0)\n",
      "Requirement already satisfied: requests-oauthlib>=0.7.0 in /edgar1/datase_license_plate/venv/lib/python3.6/site-packages (from google-auth-oauthlib<0.5,>=0.4.1->tensorboard<2.1.0,>=2.0.0->tensorflow==2.0.0) (1.3.1)\n",
      "Requirement already satisfied: importlib-metadata>=4.4 in /edgar1/datase_license_plate/venv/lib/python3.6/site-packages (from markdown>=2.6.8->tensorboard<2.1.0,>=2.0.0->tensorflow==2.0.0) (4.8.3)\n",
      "Requirement already satisfied: urllib3<1.27,>=1.21.1 in /edgar1/datase_license_plate/venv/lib/python3.6/site-packages (from requests<3,>=2.21.0->tensorboard<2.1.0,>=2.0.0->tensorflow==2.0.0) (1.26.18)\n",
      "Requirement already satisfied: certifi>=2017.4.17 in /edgar1/datase_license_plate/venv/lib/python3.6/site-packages (from requests<3,>=2.21.0->tensorboard<2.1.0,>=2.0.0->tensorflow==2.0.0) (2023.11.17)\n",
      "Requirement already satisfied: charset-normalizer~=2.0.0 in /edgar1/datase_license_plate/venv/lib/python3.6/site-packages (from requests<3,>=2.21.0->tensorboard<2.1.0,>=2.0.0->tensorflow==2.0.0) (2.0.12)\n",
      "Requirement already satisfied: idna<4,>=2.5 in /edgar1/datase_license_plate/venv/lib/python3.6/site-packages (from requests<3,>=2.21.0->tensorboard<2.1.0,>=2.0.0->tensorflow==2.0.0) (3.6)\n",
      "Requirement already satisfied: dataclasses in /edgar1/datase_license_plate/venv/lib/python3.6/site-packages (from werkzeug>=0.11.15->tensorboard<2.1.0,>=2.0.0->tensorflow==2.0.0) (0.8)\n",
      "Requirement already satisfied: zipp>=0.5 in /edgar1/datase_license_plate/venv/lib/python3.6/site-packages (from importlib-metadata>=4.4->markdown>=2.6.8->tensorboard<2.1.0,>=2.0.0->tensorflow==2.0.0) (3.6.0)\n",
      "Requirement already satisfied: typing-extensions>=3.6.4 in /edgar1/datase_license_plate/venv/lib/python3.6/site-packages (from importlib-metadata>=4.4->markdown>=2.6.8->tensorboard<2.1.0,>=2.0.0->tensorflow==2.0.0) (3.7.4.3)\n",
      "Requirement already satisfied: pyasn1<0.6.0,>=0.4.6 in /edgar1/datase_license_plate/venv/lib/python3.6/site-packages (from pyasn1-modules>=0.2.1->google-auth<2,>=1.6.3->tensorboard<2.1.0,>=2.0.0->tensorflow==2.0.0) (0.5.1)\n",
      "Requirement already satisfied: oauthlib>=3.0.0 in /edgar1/datase_license_plate/venv/lib/python3.6/site-packages (from requests-oauthlib>=0.7.0->google-auth-oauthlib<0.5,>=0.4.1->tensorboard<2.1.0,>=2.0.0->tensorflow==2.0.0) (3.2.2)\n",
      "\u001b[33mWARNING: Ignoring invalid distribution -ensorflow-gpu (/edgar1/datase_license_plate/venv/lib/python3.6/site-packages)\u001b[0m\n",
      "\u001b[33mWARNING: Ignoring invalid distribution -ensorflow-estimator (/edgar1/datase_license_plate/venv/lib/python3.6/site-packages)\u001b[0m\n",
      "\u001b[33mWARNING: Ignoring invalid distribution -ensorboard (/edgar1/datase_license_plate/venv/lib/python3.6/site-packages)\u001b[0m\n",
      "\u001b[33mWARNING: Ignoring invalid distribution -ecorator (/edgar1/datase_license_plate/venv/lib/python3.6/site-packages)\u001b[0m\n",
      "\u001b[33mWARNING: Ignoring invalid distribution -ensorflow-gpu (/edgar1/datase_license_plate/venv/lib/python3.6/site-packages)\u001b[0m\n",
      "\u001b[33mWARNING: Ignoring invalid distribution -ensorflow-estimator (/edgar1/datase_license_plate/venv/lib/python3.6/site-packages)\u001b[0m\n",
      "\u001b[33mWARNING: Ignoring invalid distribution -ensorboard (/edgar1/datase_license_plate/venv/lib/python3.6/site-packages)\u001b[0m\n",
      "\u001b[33mWARNING: Ignoring invalid distribution -ecorator (/edgar1/datase_license_plate/venv/lib/python3.6/site-packages)\u001b[0m\n",
      "\u001b[33mWARNING: Ignoring invalid distribution -ensorflow-gpu (/edgar1/datase_license_plate/venv/lib/python3.6/site-packages)\u001b[0m\n",
      "\u001b[33mWARNING: Ignoring invalid distribution -ensorflow-estimator (/edgar1/datase_license_plate/venv/lib/python3.6/site-packages)\u001b[0m\n",
      "\u001b[33mWARNING: Ignoring invalid distribution -ensorboard (/edgar1/datase_license_plate/venv/lib/python3.6/site-packages)\u001b[0m\n",
      "\u001b[33mWARNING: Ignoring invalid distribution -ecorator (/edgar1/datase_license_plate/venv/lib/python3.6/site-packages)\u001b[0m\n"
     ]
    }
   ],
   "source": [
    "!python3.6  -m pip install tensorflow==2.0.0"
   ]
  },
  {
   "cell_type": "code",
   "execution_count": null,
   "metadata": {},
   "outputs": [],
   "source": []
  },
  {
   "cell_type": "code",
   "execution_count": 4,
   "metadata": {},
   "outputs": [],
   "source": [
    "from __future__ import absolute_import\n",
    "from __future__  import division\n",
    "from __future__ import print_function\n",
    "import tensorflow as tf\n",
    "import numpy as np\n",
    "from skimage.io import imread\n",
    "from skimage.transform import resize\n",
    "import cv2\n",
    "import numpy as np\n",
    "import os\n",
    "from PIL import Image\n",
    "from io import BytesIO\n",
    "import time\n",
    "import h5py\n"
   ]
  },
  {
   "cell_type": "code",
   "execution_count": 5,
   "metadata": {},
   "outputs": [
    {
     "name": "stdout",
     "output_type": "stream",
     "text": [
      "[name: \"/device:CPU:0\"\n",
      "device_type: \"CPU\"\n",
      "memory_limit: 268435456\n",
      "locality {\n",
      "}\n",
      "incarnation: 1730894325101556574\n",
      ", name: \"/device:XLA_CPU:0\"\n",
      "device_type: \"XLA_CPU\"\n",
      "memory_limit: 17179869184\n",
      "locality {\n",
      "}\n",
      "incarnation: 1311654346841953654\n",
      "physical_device_desc: \"device: XLA_CPU device\"\n",
      "]\n"
     ]
    }
   ],
   "source": [
    "from tensorflow.python.client import device_lib\n",
    "print(device_lib.list_local_devices())"
   ]
  },
  {
   "cell_type": "code",
   "execution_count": 6,
   "metadata": {},
   "outputs": [
    {
     "name": "stdout",
     "output_type": "stream",
     "text": [
      "\u001b[33mWARNING: Ignoring invalid distribution -ensorflow-gpu (/edgar1/datase_license_plate/venv/lib/python3.6/site-packages)\u001b[0m\n",
      "\u001b[33mWARNING: Ignoring invalid distribution -ensorflow-estimator (/edgar1/datase_license_plate/venv/lib/python3.6/site-packages)\u001b[0m\n",
      "\u001b[33mWARNING: Ignoring invalid distribution -ensorboard (/edgar1/datase_license_plate/venv/lib/python3.6/site-packages)\u001b[0m\n",
      "\u001b[33mWARNING: Ignoring invalid distribution -ecorator (/edgar1/datase_license_plate/venv/lib/python3.6/site-packages)\u001b[0m\n",
      "absl-py==0.15.0\n",
      "astor==0.8.1\n",
      "astunparse==1.6.3\n",
      "backcall==0.2.0\n",
      "cached-property==1.5.2\n",
      "cachetools==4.2.4\n",
      "certifi==2023.11.17\n",
      "charset-normalizer==2.0.12\n",
      "clang==5.0\n",
      "contextlib2==21.6.0\n",
      "cycler==0.11.0\n",
      "Cython==3.0.6\n",
      "dataclasses==0.8\n",
      "decorator==4.4.2\n",
      "entrypoints==0.4\n",
      "flatbuffers==1.12\n",
      "gast==0.2.2\n",
      "google-auth==1.35.0\n",
      "google-auth-oauthlib==0.4.6\n",
      "google-pasta==0.2.0\n",
      "grpcio==1.48.2\n",
      "h5py==2.10.0\n",
      "idna==3.6\n",
      "imageio==2.15.0\n",
      "importlib-metadata==4.8.3\n",
      "importlib-resources==5.4.0\n",
      "ipykernel==5.5.6\n",
      "ipython==7.16.3\n",
      "ipython-genutils==0.2.0\n",
      "jedi==0.17.2\n",
      "jupyter-client==7.1.2\n",
      "jupyter-core==4.9.2\n",
      "Keras==2.3.1\n",
      "Keras-Applications==1.0.8\n",
      "Keras-Preprocessing==1.1.2\n",
      "kiwisolver==1.3.1\n",
      "lvis==0.5.3\n",
      "lxml==4.9.3\n",
      "Markdown==3.3.7\n",
      "matplotlib==3.3.4\n",
      "nest-asyncio==1.5.8\n",
      "networkx==2.5.1\n",
      "numpy==1.19.5\n",
      "oauthlib==3.2.2\n",
      "object-detection @ file:///opt/models/research\n",
      "opencv-python==4.8.1.78\n",
      "opt-einsum==3.3.0\n",
      "pandas==1.1.5\n",
      "parso==0.7.1\n",
      "pexpect==4.9.0\n",
      "pickleshare==0.7.5\n",
      "Pillow==8.4.0\n",
      "pkg_resources==0.0.0\n",
      "prompt-toolkit==3.0.36\n",
      "protobuf==3.19.6\n",
      "ptyprocess==0.7.0\n",
      "pyasn1==0.5.1\n",
      "pyasn1-modules==0.3.0\n",
      "pycocotools==2.0.7\n",
      "Pygments==2.14.0\n",
      "pyparsing==3.1.1\n",
      "python-dateutil==2.8.2\n",
      "pytz==2023.3.post1\n",
      "PyWavelets==1.1.1\n",
      "PyYAML==6.0.1\n",
      "pyzmq==25.1.2\n",
      "requests==2.27.1\n",
      "requests-oauthlib==1.3.1\n",
      "rsa==4.9\n",
      "scikit-image==0.17.2\n",
      "scipy==1.5.4\n",
      "six==1.16.0\n",
      "tensorboard==2.0.2\n",
      "tensorboard-data-server==0.6.1\n",
      "tensorboard-plugin-wit==1.8.1\n",
      "tensorflow==2.0.0\n",
      "tensorflow-estimator==2.0.1\n",
      "tensorflow-gpu==2.0.0\n",
      "termcolor==1.1.0\n",
      "tf-slim==1.1.0\n",
      "tifffile==2020.9.3\n",
      "tornado==6.1\n",
      "tqdm==4.64.1\n",
      "traitlets==4.3.3\n",
      "typing-extensions==3.7.4.3\n",
      "urllib3==1.26.18\n",
      "wcwidth==0.2.12\n",
      "Werkzeug==2.0.3\n",
      "wrapt==1.12.1\n",
      "zipp==3.6.0\n"
     ]
    }
   ],
   "source": [
    "!python3.6 -m pip  freeze\n"
   ]
  },
  {
   "cell_type": "code",
   "execution_count": null,
   "metadata": {},
   "outputs": [],
   "source": [
    "\n"
   ]
  },
  {
   "cell_type": "code",
   "execution_count": 29,
   "metadata": {},
   "outputs": [],
   "source": [
    "def mamon_videoFightModel2(tf,wight='mamonbest947oscombo.h5'):\n",
    "    layers = tf.keras.layers\n",
    "    models = tf.keras.models\n",
    "    losses = tf.keras.losses\n",
    "    optimizers = tf.keras.optimizers\n",
    "    metrics = tf.keras.metrics\n",
    "    num_classes = 2\n",
    "    cnn = models.Sequential()\n",
    "    #cnn.add(base_model)\n",
    "\n",
    "    input_shapes=(160,160,3)\n",
    "    np.random.seed(1234)\n",
    "    vg19 = tf.keras.applications.vgg19.VGG19\n",
    "    base_model = vg19(include_top=False,weights='imagenet',input_shape=(160, 160,3))\n",
    "    # Freeze the layers except the last 4 layers\n",
    "    #for layer in base_model.layers:\n",
    "    #    layer.trainable = False\n",
    "\n",
    "    cnn = models.Sequential()\n",
    "    cnn.add(base_model)\n",
    "    cnn.add(layers.Flatten())\n",
    "    model = models.Sequential()\n",
    "\n",
    "    model.add(layers.TimeDistributed(cnn,  input_shape=(30, 160, 160, 3)))\n",
    "    model.add(layers.LSTM(30 , return_sequences= True))\n",
    "\n",
    "    model.add(layers.TimeDistributed(layers.Dense(90)))\n",
    "    model.add(layers.Dropout(0.1))\n",
    "\n",
    "    model.add(layers.GlobalAveragePooling1D())\n",
    "\n",
    "    model.add(layers.Dense(512, activation='relu'))\n",
    "    model.add(layers.Dropout(0.3))\n",
    "\n",
    "    model.add(layers.Dense(num_classes, activation=\"sigmoid\"))\n",
    "\n",
    "    adam = optimizers.Adam(lr=0.0005, beta_1=0.9, beta_2=0.999, epsilon=1e-08)\n",
    "    model.load_weights(wight)\n",
    "    rms = optimizers.RMSprop()\n",
    "\n",
    "    model.compile(loss='binary_crossentropy', optimizer=adam, metrics=[\"accuracy\"])\n",
    "\n",
    "    return model\n"
   ]
  },
  {
   "cell_type": "code",
   "execution_count": 30,
   "metadata": {},
   "outputs": [
    {
     "ename": "",
     "evalue": "",
     "output_type": "error",
     "traceback": [
      "\u001b[1;31mThe Kernel crashed while executing code in the the current cell or a previous cell. Please review the code in the cell(s) to identify a possible cause of the failure. Click <a href='https://aka.ms/vscodeJupyterKernelCrash'>here</a> for more info. View Jupyter <a href='command:jupyter.viewOutput'>log</a> for further details."
     ]
    }
   ],
   "source": [
    "import numpy as np\n",
    "from skimage.transform import resize\n",
    "import sys\n",
    "#reload(sys)\n",
    "#sys.setdefaultencoding(\"utf-8\")\n",
    "np.random.seed(1234)\n",
    "model22 = mamon_videoFightModel2(tf)\n"
   ]
  },
  {
   "cell_type": "code",
   "execution_count": 9,
   "metadata": {},
   "outputs": [],
   "source": [
    "model22._make_predict_function()\n"
   ]
  },
  {
   "cell_type": "code",
   "execution_count": 10,
   "metadata": {},
   "outputs": [],
   "source": [
    "def video_mamonreader(cv2,filename):\n",
    "    frames = np.zeros((30, 160, 160, 3), dtype=np.float)\n",
    "    i=0\n",
    "    print(frames.shape)\n",
    "    vc = cv2.VideoCapture(filename)\n",
    "    if vc.isOpened():\n",
    "        rval , frame = vc.read()\n",
    "\n",
    "   \n",
    "        i +=1\n",
    "        print(\"reading video******\",filename)\n",
    "        while i < 30:\n",
    "            if frame is None:\n",
    "                print(\"frame is none\")\n",
    "                break  # Break if there are no more frames\n",
    "            rval, frame = vc.read()\n",
    "            frm = resize(frame,(160,160,3))\n",
    "            frm = np.expand_dims(frm,axis=0)\n",
    "            if(np.max(frm)>1):\n",
    "                frm = frm/255.0\n",
    "            frames[i][:] = frm\n",
    "            i +=1\n",
    "    else:\n",
    "        rval = False\n",
    "    return frames"
   ]
  },
  {
   "cell_type": "code",
   "execution_count": 11,
   "metadata": {},
   "outputs": [],
   "source": [
    "def pred_fight(model,video,acuracy=0.9):\n",
    "    pred_test = model.predict(video)\n",
    "    if pred_test[0][1] >=acuracy:\n",
    "        return True , pred_test[0][1]\n",
    "    else:\n",
    "        return False , pred_test[0][1]"
   ]
  },
  {
   "cell_type": "code",
   "execution_count": null,
   "metadata": {},
   "outputs": [],
   "source": []
  },
  {
   "cell_type": "code",
   "execution_count": 12,
   "metadata": {},
   "outputs": [],
   "source": [
    "def main_fight(vidoss):\n",
    "    vid = video_mamonreader(cv2,vidoss)\n",
    "    datav = np.zeros((1, 30, 160, 160, 3), dtype=np.float)\n",
    "    datav[0][:][:] = vid\n",
    "    millis = int(round(time.time() * 1000))\n",
    "    print(millis)\n",
    "    f , precent = pred_fight(model22,datav,acuracy=0.65)\n",
    "    millis2 = int(round(time.time() * 1000))\n",
    "    print(millis2)\n",
    "    res_mamon = {'fight':f , 'precentegeoffight':str(precent)}\n",
    "    res_mamon['processing_time'] =  str(millis2-millis)\n",
    "    return res_mamon"
   ]
  },
  {
   "cell_type": "code",
   "execution_count": 26,
   "metadata": {},
   "outputs": [
    {
     "name": "stdout",
     "output_type": "stream",
     "text": [
      "(30, 160, 160, 3)\n",
      "1706031073994\n",
      "1706031078151\n"
     ]
    }
   ],
   "source": [
    "res = main_fight('hospital.mp4')\n",
    "\n"
   ]
  },
  {
   "cell_type": "code",
   "execution_count": 27,
   "metadata": {},
   "outputs": [
    {
     "data": {
      "text/plain": [
       "{'fight': True, 'precentegeoffight': '0.6639507', 'processing_time': '4157'}"
      ]
     },
     "execution_count": 27,
     "metadata": {},
     "output_type": "execute_result"
    }
   ],
   "source": [
    "res"
   ]
  },
  {
   "cell_type": "code",
   "execution_count": 15,
   "metadata": {},
   "outputs": [
    {
     "name": "stdout",
     "output_type": "stream",
     "text": [
      "(30, 160, 160, 3)\n",
      "1706030521475\n",
      "1706030527188\n"
     ]
    }
   ],
   "source": [
    "res1 = main_fight(\"hospital.mp4\")"
   ]
  },
  {
   "cell_type": "code",
   "execution_count": 16,
   "metadata": {},
   "outputs": [
    {
     "data": {
      "text/plain": [
       "{'fight': True, 'precentegeoffight': '0.6639507', 'processing_time': '5713'}"
      ]
     },
     "execution_count": 16,
     "metadata": {},
     "output_type": "execute_result"
    }
   ],
   "source": [
    "res1"
   ]
  },
  {
   "cell_type": "code",
   "execution_count": null,
   "metadata": {},
   "outputs": [],
   "source": []
  }
 ],
 "metadata": {
  "kernelspec": {
   "display_name": "Python 3.6.15 ('venv': venv)",
   "language": "python",
   "name": "python3"
  },
  "language_info": {
   "codemirror_mode": {
    "name": "ipython",
    "version": 3
   },
   "file_extension": ".py",
   "mimetype": "text/x-python",
   "name": "python",
   "nbconvert_exporter": "python",
   "pygments_lexer": "ipython3",
   "version": "3.6.15"
  },
  "vscode": {
   "interpreter": {
    "hash": "0e590a11bc857468b26d427738bad89c2fb2f50e18494f79e554df2b61609526"
   }
  }
 },
 "nbformat": 4,
 "nbformat_minor": 2
}
