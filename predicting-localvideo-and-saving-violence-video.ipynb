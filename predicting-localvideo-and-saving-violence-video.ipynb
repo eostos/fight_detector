{
 "cells": [
  {
   "cell_type": "code",
   "execution_count": 1,
   "metadata": {},
   "outputs": [
    {
     "name": "stdout",
     "output_type": "stream",
     "text": [
      "Requirement already satisfied: testresources in /home/ceoebenezer/.local/lib/python3.6/site-packages (2.0.1)\n",
      "Requirement already satisfied: pbr>=1.8 in /home/ceoebenezer/.local/lib/python3.6/site-packages (from testresources) (6.0.0)\n",
      "Requirement already satisfied: tensorflow-gpu==2.0.0 in /home/ceoebenezer/.local/lib/python3.6/site-packages (2.0.0)\n",
      "Requirement already satisfied: absl-py>=0.7.0 in /home/ceoebenezer/.local/lib/python3.6/site-packages (from tensorflow-gpu==2.0.0) (1.4.0)\n",
      "Requirement already satisfied: astor>=0.6.0 in /home/ceoebenezer/.local/lib/python3.6/site-packages (from tensorflow-gpu==2.0.0) (0.8.1)\n",
      "Requirement already satisfied: keras-applications>=1.0.8 in /home/ceoebenezer/.local/lib/python3.6/site-packages (from tensorflow-gpu==2.0.0) (1.0.8)\n",
      "Requirement already satisfied: opt-einsum>=2.3.2 in /home/ceoebenezer/.local/lib/python3.6/site-packages (from tensorflow-gpu==2.0.0) (3.3.0)\n",
      "Requirement already satisfied: protobuf>=3.6.1 in /usr/lib/python3/dist-packages (from tensorflow-gpu==2.0.0) (3.6.1)\n",
      "Requirement already satisfied: keras-preprocessing>=1.0.5 in /home/ceoebenezer/.local/lib/python3.6/site-packages (from tensorflow-gpu==2.0.0) (1.1.2)\n",
      "Requirement already satisfied: tensorboard<2.1.0,>=2.0.0 in /home/ceoebenezer/.local/lib/python3.6/site-packages (from tensorflow-gpu==2.0.0) (2.0.2)\n",
      "Requirement already satisfied: tensorflow-estimator<2.1.0,>=2.0.0 in /home/ceoebenezer/.local/lib/python3.6/site-packages (from tensorflow-gpu==2.0.0) (2.0.1)\n",
      "Requirement already satisfied: six>=1.10.0 in /home/ceoebenezer/.local/lib/python3.6/site-packages (from tensorflow-gpu==2.0.0) (1.16.0)\n",
      "Requirement already satisfied: wrapt>=1.11.1 in /home/ceoebenezer/.local/lib/python3.6/site-packages (from tensorflow-gpu==2.0.0) (1.16.0)\n",
      "Requirement already satisfied: termcolor>=1.1.0 in /home/ceoebenezer/.local/lib/python3.6/site-packages (from tensorflow-gpu==2.0.0) (1.1.0)\n",
      "Requirement already satisfied: gast==0.2.2 in /home/ceoebenezer/.local/lib/python3.6/site-packages (from tensorflow-gpu==2.0.0) (0.2.2)\n",
      "Requirement already satisfied: numpy<2.0,>=1.16.0 in /home/ceoebenezer/.local/lib/python3.6/site-packages (from tensorflow-gpu==2.0.0) (1.19.5)\n",
      "Requirement already satisfied: grpcio>=1.8.6 in /home/ceoebenezer/.local/lib/python3.6/site-packages (from tensorflow-gpu==2.0.0) (1.48.2)\n",
      "Requirement already satisfied: google-pasta>=0.1.6 in /home/ceoebenezer/.local/lib/python3.6/site-packages (from tensorflow-gpu==2.0.0) (0.2.0)\n",
      "Requirement already satisfied: wheel>=0.26 in /usr/lib/python3/dist-packages (from tensorflow-gpu==2.0.0) (0.34.2)\n",
      "Requirement already satisfied: h5py in /home/ceoebenezer/.local/lib/python3.6/site-packages (from keras-applications>=1.0.8->tensorflow-gpu==2.0.0) (2.10.0)\n",
      "Requirement already satisfied: setuptools>=41.0.0 in /usr/lib/python3/dist-packages (from tensorboard<2.1.0,>=2.0.0->tensorflow-gpu==2.0.0) (45.2.0)\n",
      "Requirement already satisfied: google-auth<2,>=1.6.3 in /home/ceoebenezer/.local/lib/python3.6/site-packages (from tensorboard<2.1.0,>=2.0.0->tensorflow-gpu==2.0.0) (1.35.0)\n",
      "Requirement already satisfied: google-auth-oauthlib<0.5,>=0.4.1 in /home/ceoebenezer/.local/lib/python3.6/site-packages (from tensorboard<2.1.0,>=2.0.0->tensorflow-gpu==2.0.0) (0.4.6)\n",
      "Requirement already satisfied: requests<3,>=2.21.0 in /usr/lib/python3/dist-packages (from tensorboard<2.1.0,>=2.0.0->tensorflow-gpu==2.0.0) (2.22.0)\n",
      "Requirement already satisfied: werkzeug>=0.11.15 in /home/ceoebenezer/.local/lib/python3.6/site-packages (from tensorboard<2.1.0,>=2.0.0->tensorflow-gpu==2.0.0) (2.0.3)\n",
      "Requirement already satisfied: markdown>=2.6.8 in /home/ceoebenezer/.local/lib/python3.6/site-packages (from tensorboard<2.1.0,>=2.0.0->tensorflow-gpu==2.0.0) (3.3.7)\n",
      "Requirement already satisfied: rsa<5,>=3.1.4; python_version >= \"3.6\" in /home/ceoebenezer/.local/lib/python3.6/site-packages (from google-auth<2,>=1.6.3->tensorboard<2.1.0,>=2.0.0->tensorflow-gpu==2.0.0) (4.9)\n",
      "Requirement already satisfied: pyasn1-modules>=0.2.1 in /home/ceoebenezer/.local/lib/python3.6/site-packages (from google-auth<2,>=1.6.3->tensorboard<2.1.0,>=2.0.0->tensorflow-gpu==2.0.0) (0.3.0)\n",
      "Requirement already satisfied: cachetools<5.0,>=2.0.0 in /home/ceoebenezer/.local/lib/python3.6/site-packages (from google-auth<2,>=1.6.3->tensorboard<2.1.0,>=2.0.0->tensorflow-gpu==2.0.0) (4.2.4)\n",
      "Requirement already satisfied: requests-oauthlib>=0.7.0 in /home/ceoebenezer/.local/lib/python3.6/site-packages (from google-auth-oauthlib<0.5,>=0.4.1->tensorboard<2.1.0,>=2.0.0->tensorflow-gpu==2.0.0) (1.3.1)\n",
      "Requirement already satisfied: dataclasses; python_version < \"3.7\" in /home/ceoebenezer/.local/lib/python3.6/site-packages (from werkzeug>=0.11.15->tensorboard<2.1.0,>=2.0.0->tensorflow-gpu==2.0.0) (0.8)\n",
      "Requirement already satisfied: importlib-metadata>=4.4; python_version < \"3.10\" in /home/ceoebenezer/.local/lib/python3.6/site-packages (from markdown>=2.6.8->tensorboard<2.1.0,>=2.0.0->tensorflow-gpu==2.0.0) (4.8.3)\n",
      "Requirement already satisfied: pyasn1>=0.1.3 in /home/ceoebenezer/.local/lib/python3.6/site-packages (from rsa<5,>=3.1.4; python_version >= \"3.6\"->google-auth<2,>=1.6.3->tensorboard<2.1.0,>=2.0.0->tensorflow-gpu==2.0.0) (0.5.1)\n",
      "Requirement already satisfied: oauthlib>=3.0.0 in /usr/lib/python3/dist-packages (from requests-oauthlib>=0.7.0->google-auth-oauthlib<0.5,>=0.4.1->tensorboard<2.1.0,>=2.0.0->tensorflow-gpu==2.0.0) (3.1.0)\n",
      "Requirement already satisfied: typing-extensions>=3.6.4; python_version < \"3.8\" in /home/ceoebenezer/.local/lib/python3.6/site-packages (from importlib-metadata>=4.4; python_version < \"3.10\"->markdown>=2.6.8->tensorboard<2.1.0,>=2.0.0->tensorflow-gpu==2.0.0) (4.1.1)\n",
      "Requirement already satisfied: zipp>=0.5 in /usr/lib/python3/dist-packages (from importlib-metadata>=4.4; python_version < \"3.10\"->markdown>=2.6.8->tensorboard<2.1.0,>=2.0.0->tensorflow-gpu==2.0.0) (1.0.0)\n",
      "Requirement already up-to-date: pillow in /home/ceoebenezer/.local/lib/python3.6/site-packages (8.4.0)\n",
      "Requirement already satisfied: keras==2.3.1 in /home/ceoebenezer/.local/lib/python3.6/site-packages (2.3.1)\n",
      "Requirement already satisfied: pyyaml in /usr/lib/python3/dist-packages (from keras==2.3.1) (5.3.1)\n",
      "Requirement already satisfied: scipy>=0.14 in /home/ceoebenezer/.local/lib/python3.6/site-packages (from keras==2.3.1) (1.5.4)\n",
      "Requirement already satisfied: six>=1.9.0 in /home/ceoebenezer/.local/lib/python3.6/site-packages (from keras==2.3.1) (1.16.0)\n",
      "Requirement already satisfied: h5py in /home/ceoebenezer/.local/lib/python3.6/site-packages (from keras==2.3.1) (2.10.0)\n",
      "Requirement already satisfied: keras-applications>=1.0.6 in /home/ceoebenezer/.local/lib/python3.6/site-packages (from keras==2.3.1) (1.0.8)\n",
      "Requirement already satisfied: keras-preprocessing>=1.0.5 in /home/ceoebenezer/.local/lib/python3.6/site-packages (from keras==2.3.1) (1.1.2)\n",
      "Requirement already satisfied: numpy>=1.9.1 in /home/ceoebenezer/.local/lib/python3.6/site-packages (from keras==2.3.1) (1.19.5)\n",
      "Collecting h5py==2.10.0\n",
      "  Using cached h5py-2.10.0-cp36-cp36m-manylinux1_x86_64.whl (2.9 MB)\n",
      "Collecting six\n",
      "  Using cached six-1.16.0-py2.py3-none-any.whl (11 kB)\n",
      "Collecting numpy>=1.7\n",
      "  Using cached numpy-1.19.5-cp36-cp36m-manylinux2010_x86_64.whl (14.8 MB)\n",
      "Installing collected packages: six, numpy, h5py\n",
      "  Attempting uninstall: six\n",
      "    Found existing installation: six 1.16.0\n",
      "    Uninstalling six-1.16.0:\n",
      "      Successfully uninstalled six-1.16.0\n",
      "  Attempting uninstall: numpy\n",
      "    Found existing installation: numpy 1.19.5\n",
      "    Uninstalling numpy-1.19.5:\n",
      "      Successfully uninstalled numpy-1.19.5\n",
      "  Attempting uninstall: h5py\n",
      "    Found existing installation: h5py 2.10.0\n",
      "    Uninstalling h5py-2.10.0:\n",
      "      Successfully uninstalled h5py-2.10.0\n",
      "Successfully installed h5py-2.10.0 numpy-1.19.5 six-1.16.0\n",
      "Requirement already satisfied: scikit-image in /home/ceoebenezer/.local/lib/python3.6/site-packages (0.17.2)\n",
      "Requirement already satisfied: pillow!=7.1.0,!=7.1.1,>=4.3.0 in /home/ceoebenezer/.local/lib/python3.6/site-packages (from scikit-image) (8.4.0)\n",
      "Requirement already satisfied: tifffile>=2019.7.26 in /home/ceoebenezer/.local/lib/python3.6/site-packages (from scikit-image) (2020.9.3)\n",
      "Requirement already satisfied: numpy>=1.15.1 in /home/ceoebenezer/.local/lib/python3.6/site-packages (from scikit-image) (1.19.5)\n",
      "Requirement already satisfied: scipy>=1.0.1 in /home/ceoebenezer/.local/lib/python3.6/site-packages (from scikit-image) (1.5.4)\n",
      "Requirement already satisfied: matplotlib!=3.0.0,>=2.0.0 in /home/ceoebenezer/.local/lib/python3.6/site-packages (from scikit-image) (3.3.4)\n",
      "Requirement already satisfied: PyWavelets>=1.1.1 in /home/ceoebenezer/.local/lib/python3.6/site-packages (from scikit-image) (1.1.1)\n",
      "Requirement already satisfied: imageio>=2.3.0 in /home/ceoebenezer/.local/lib/python3.6/site-packages (from scikit-image) (2.15.0)\n"
     ]
    },
    {
     "name": "stdout",
     "output_type": "stream",
     "text": [
      "Requirement already satisfied: networkx>=2.0 in /home/ceoebenezer/.local/lib/python3.6/site-packages (from scikit-image) (2.5.1)\n",
      "Requirement already satisfied: python-dateutil>=2.1 in /home/ceoebenezer/.local/lib/python3.6/site-packages (from matplotlib!=3.0.0,>=2.0.0->scikit-image) (2.8.2)\n",
      "Requirement already satisfied: cycler>=0.10 in /home/ceoebenezer/.local/lib/python3.6/site-packages (from matplotlib!=3.0.0,>=2.0.0->scikit-image) (0.11.0)\n",
      "Requirement already satisfied: pyparsing!=2.0.4,!=2.1.2,!=2.1.6,>=2.0.3 in /home/ceoebenezer/.local/lib/python3.6/site-packages (from matplotlib!=3.0.0,>=2.0.0->scikit-image) (3.1.1)\n",
      "Requirement already satisfied: kiwisolver>=1.0.1 in /home/ceoebenezer/.local/lib/python3.6/site-packages (from matplotlib!=3.0.0,>=2.0.0->scikit-image) (1.3.1)\n",
      "Requirement already satisfied: decorator<5,>=4.3 in /home/ceoebenezer/.local/lib/python3.6/site-packages (from networkx>=2.0->scikit-image) (4.4.2)\n",
      "Requirement already satisfied: six>=1.5 in /home/ceoebenezer/.local/lib/python3.6/site-packages (from python-dateutil>=2.1->matplotlib!=3.0.0,>=2.0.0->scikit-image) (1.16.0)\n",
      "Requirement already satisfied: tensorflow==2.0.0 in /home/ceoebenezer/.local/lib/python3.6/site-packages (2.0.0)\n",
      "Requirement already satisfied: wrapt>=1.11.1 in /home/ceoebenezer/.local/lib/python3.6/site-packages (from tensorflow==2.0.0) (1.16.0)\n",
      "Requirement already satisfied: termcolor>=1.1.0 in /home/ceoebenezer/.local/lib/python3.6/site-packages (from tensorflow==2.0.0) (1.1.0)\n",
      "Requirement already satisfied: numpy<2.0,>=1.16.0 in /home/ceoebenezer/.local/lib/python3.6/site-packages (from tensorflow==2.0.0) (1.19.5)\n",
      "Requirement already satisfied: tensorboard<2.1.0,>=2.0.0 in /home/ceoebenezer/.local/lib/python3.6/site-packages (from tensorflow==2.0.0) (2.0.2)\n",
      "Requirement already satisfied: astor>=0.6.0 in /home/ceoebenezer/.local/lib/python3.6/site-packages (from tensorflow==2.0.0) (0.8.1)\n",
      "Requirement already satisfied: google-pasta>=0.1.6 in /home/ceoebenezer/.local/lib/python3.6/site-packages (from tensorflow==2.0.0) (0.2.0)\n",
      "Requirement already satisfied: protobuf>=3.6.1 in /usr/lib/python3/dist-packages (from tensorflow==2.0.0) (3.6.1)\n",
      "Requirement already satisfied: wheel>=0.26 in /usr/lib/python3/dist-packages (from tensorflow==2.0.0) (0.34.2)\n",
      "Requirement already satisfied: opt-einsum>=2.3.2 in /home/ceoebenezer/.local/lib/python3.6/site-packages (from tensorflow==2.0.0) (3.3.0)\n",
      "Requirement already satisfied: grpcio>=1.8.6 in /home/ceoebenezer/.local/lib/python3.6/site-packages (from tensorflow==2.0.0) (1.48.2)\n",
      "Requirement already satisfied: gast==0.2.2 in /home/ceoebenezer/.local/lib/python3.6/site-packages (from tensorflow==2.0.0) (0.2.2)\n",
      "Requirement already satisfied: keras-applications>=1.0.8 in /home/ceoebenezer/.local/lib/python3.6/site-packages (from tensorflow==2.0.0) (1.0.8)\n",
      "Requirement already satisfied: six>=1.10.0 in /home/ceoebenezer/.local/lib/python3.6/site-packages (from tensorflow==2.0.0) (1.16.0)\n",
      "Requirement already satisfied: keras-preprocessing>=1.0.5 in /home/ceoebenezer/.local/lib/python3.6/site-packages (from tensorflow==2.0.0) (1.1.2)\n",
      "Requirement already satisfied: tensorflow-estimator<2.1.0,>=2.0.0 in /home/ceoebenezer/.local/lib/python3.6/site-packages (from tensorflow==2.0.0) (2.0.1)\n",
      "Requirement already satisfied: absl-py>=0.7.0 in /home/ceoebenezer/.local/lib/python3.6/site-packages (from tensorflow==2.0.0) (1.4.0)\n",
      "Requirement already satisfied: requests<3,>=2.21.0 in /usr/lib/python3/dist-packages (from tensorboard<2.1.0,>=2.0.0->tensorflow==2.0.0) (2.22.0)\n",
      "Requirement already satisfied: google-auth-oauthlib<0.5,>=0.4.1 in /home/ceoebenezer/.local/lib/python3.6/site-packages (from tensorboard<2.1.0,>=2.0.0->tensorflow==2.0.0) (0.4.6)\n",
      "Requirement already satisfied: setuptools>=41.0.0 in /usr/lib/python3/dist-packages (from tensorboard<2.1.0,>=2.0.0->tensorflow==2.0.0) (45.2.0)\n",
      "Requirement already satisfied: google-auth<2,>=1.6.3 in /home/ceoebenezer/.local/lib/python3.6/site-packages (from tensorboard<2.1.0,>=2.0.0->tensorflow==2.0.0) (1.35.0)\n",
      "Requirement already satisfied: werkzeug>=0.11.15 in /home/ceoebenezer/.local/lib/python3.6/site-packages (from tensorboard<2.1.0,>=2.0.0->tensorflow==2.0.0) (2.0.3)\n",
      "Requirement already satisfied: markdown>=2.6.8 in /home/ceoebenezer/.local/lib/python3.6/site-packages (from tensorboard<2.1.0,>=2.0.0->tensorflow==2.0.0) (3.3.7)\n",
      "Requirement already satisfied: h5py in /home/ceoebenezer/.local/lib/python3.6/site-packages (from keras-applications>=1.0.8->tensorflow==2.0.0) (2.10.0)\n",
      "Requirement already satisfied: requests-oauthlib>=0.7.0 in /home/ceoebenezer/.local/lib/python3.6/site-packages (from google-auth-oauthlib<0.5,>=0.4.1->tensorboard<2.1.0,>=2.0.0->tensorflow==2.0.0) (1.3.1)\n",
      "Requirement already satisfied: pyasn1-modules>=0.2.1 in /home/ceoebenezer/.local/lib/python3.6/site-packages (from google-auth<2,>=1.6.3->tensorboard<2.1.0,>=2.0.0->tensorflow==2.0.0) (0.3.0)\n",
      "Requirement already satisfied: rsa<5,>=3.1.4; python_version >= \"3.6\" in /home/ceoebenezer/.local/lib/python3.6/site-packages (from google-auth<2,>=1.6.3->tensorboard<2.1.0,>=2.0.0->tensorflow==2.0.0) (4.9)\n",
      "Requirement already satisfied: cachetools<5.0,>=2.0.0 in /home/ceoebenezer/.local/lib/python3.6/site-packages (from google-auth<2,>=1.6.3->tensorboard<2.1.0,>=2.0.0->tensorflow==2.0.0) (4.2.4)\n",
      "Requirement already satisfied: dataclasses; python_version < \"3.7\" in /home/ceoebenezer/.local/lib/python3.6/site-packages (from werkzeug>=0.11.15->tensorboard<2.1.0,>=2.0.0->tensorflow==2.0.0) (0.8)\n",
      "Requirement already satisfied: importlib-metadata>=4.4; python_version < \"3.10\" in /home/ceoebenezer/.local/lib/python3.6/site-packages (from markdown>=2.6.8->tensorboard<2.1.0,>=2.0.0->tensorflow==2.0.0) (4.8.3)\n",
      "Requirement already satisfied: oauthlib>=3.0.0 in /usr/lib/python3/dist-packages (from requests-oauthlib>=0.7.0->google-auth-oauthlib<0.5,>=0.4.1->tensorboard<2.1.0,>=2.0.0->tensorflow==2.0.0) (3.1.0)\n",
      "Requirement already satisfied: pyasn1<0.6.0,>=0.4.6 in /home/ceoebenezer/.local/lib/python3.6/site-packages (from pyasn1-modules>=0.2.1->google-auth<2,>=1.6.3->tensorboard<2.1.0,>=2.0.0->tensorflow==2.0.0) (0.5.1)\n",
      "Requirement already satisfied: typing-extensions>=3.6.4; python_version < \"3.8\" in /home/ceoebenezer/.local/lib/python3.6/site-packages (from importlib-metadata>=4.4; python_version < \"3.10\"->markdown>=2.6.8->tensorboard<2.1.0,>=2.0.0->tensorflow==2.0.0) (4.1.1)\n",
      "Requirement already satisfied: zipp>=0.5 in /usr/lib/python3/dist-packages (from importlib-metadata>=4.4; python_version < \"3.10\"->markdown>=2.6.8->tensorboard<2.1.0,>=2.0.0->tensorflow==2.0.0) (1.0.0)\n",
      "Requirement already satisfied: opencv-contrib-python-headless==4.5.3.56 in /home/ceoebenezer/.local/lib/python3.6/site-packages (4.5.3.56)\n",
      "Requirement already satisfied: numpy>=1.13.3 in /home/ceoebenezer/.local/lib/python3.6/site-packages (from opencv-contrib-python-headless==4.5.3.56) (1.19.5)\n"
     ]
    }
   ],
   "source": [
    "!python3.6 -m pip install  testresources\n",
    "!python3.6  -m pip install tensorflow-gpu==2.0.0\n",
    "!python3.6 -m pip install --upgrade pillow\n",
    "!python3.6 -m pip install keras==2.3.1\n",
    "!python3.6 -m pip install  'h5py==2.10.0' --force-reinstall\n",
    "!python3.6 -m pip install scikit-image\n",
    "!python3.6  -m pip install tensorflow==2.0.0\n",
    "!python3.6  -m pip install opencv-contrib-python-headless==4.5.3.56\n",
    "\n"
   ]
  },
  {
   "cell_type": "code",
   "execution_count": 2,
   "metadata": {},
   "outputs": [
    {
     "name": "stdout",
     "output_type": "stream",
     "text": [
      "Requirement already satisfied: pandas in /home/ceoebenezer/.local/lib/python3.6/site-packages (1.1.5)\r\n",
      "Requirement already satisfied: python-dateutil>=2.7.3 in /home/ceoebenezer/.local/lib/python3.6/site-packages (from pandas) (2.8.2)\r\n",
      "Requirement already satisfied: pytz>=2017.2 in /home/ceoebenezer/.local/lib/python3.6/site-packages (from pandas) (2023.3.post1)\r\n",
      "Requirement already satisfied: numpy>=1.15.4 in /home/ceoebenezer/.local/lib/python3.6/site-packages (from pandas) (1.19.5)\r\n",
      "Requirement already satisfied: six>=1.5 in /home/ceoebenezer/.local/lib/python3.6/site-packages (from python-dateutil>=2.7.3->pandas) (1.16.0)\r\n"
     ]
    }
   ],
   "source": [
    "!python3.6 -m pip install pandas"
   ]
  },
  {
   "cell_type": "code",
   "execution_count": 3,
   "metadata": {},
   "outputs": [],
   "source": [
    "from __future__ import absolute_import\n",
    "from __future__  import division\n",
    "from __future__ import print_function\n",
    "import tensorflow as tf\n",
    "import numpy as np\n",
    "from skimage.io import imread\n",
    "from skimage.transform import resize\n",
    "import cv2\n",
    "import numpy as np\n",
    "import pandas as pd\n",
    "import matplotlib.pyplot as plt\n",
    "import h5py\n"
   ]
  },
  {
   "cell_type": "code",
   "execution_count": 4,
   "metadata": {},
   "outputs": [],
   "source": [
    "import os"
   ]
  },
  {
   "cell_type": "code",
   "execution_count": 5,
   "metadata": {},
   "outputs": [],
   "source": [
    "from mamonfight22 import *"
   ]
  },
  {
   "cell_type": "code",
   "execution_count": 6,
   "metadata": {},
   "outputs": [
    {
     "name": "stdout",
     "output_type": "stream",
     "text": [
      "[name: \"/device:CPU:0\"\n",
      "device_type: \"CPU\"\n",
      "memory_limit: 268435456\n",
      "locality {\n",
      "}\n",
      "incarnation: 1372843656967686873\n",
      ", name: \"/device:XLA_CPU:0\"\n",
      "device_type: \"XLA_CPU\"\n",
      "memory_limit: 17179869184\n",
      "locality {\n",
      "}\n",
      "incarnation: 10550163840166939909\n",
      "physical_device_desc: \"device: XLA_CPU device\"\n",
      "]\n"
     ]
    }
   ],
   "source": [
    "from tensorflow.python.client import device_lib\n",
    "print(device_lib.list_local_devices())\n",
    "\n",
    "import numpy as np\n",
    "from skimage.transform import resize\n",
    "import sys\n",
    "#reload(sys)\n",
    "#sys.setdefaultencoding(\"utf-8\")\n",
    "np.random.seed(1234)\n"
   ]
  },
  {
   "cell_type": "code",
   "execution_count": null,
   "metadata": {},
   "outputs": [],
   "source": [
    "def mamon_videoFightModel2(tf,wight='mamonbest947oscombo.h5'):\n",
    "    layers = tf.keras.layers\n",
    "    models = tf.keras.models\n",
    "    losses = tf.keras.losses\n",
    "    optimizers = tf.keras.optimizers\n",
    "    metrics = tf.keras.metrics\n",
    "    num_classes = 2\n",
    "    cnn = models.Sequential()\n",
    "    #cnn.add(base_model)\n",
    "\n",
    "    input_shapes=(160,160,3)\n",
    "    np.random.seed(1234)\n",
    "    vg19 = tf.keras.applications.vgg19.VGG19\n",
    "    base_model = vg19(include_top=False,weights='imagenet',input_shape=(160, 160,3))\n",
    "    # Freeze the layers except the last 4 layers\n",
    "    #for layer in base_model.layers:\n",
    "    #    layer.trainable = False\n",
    "\n",
    "    cnn = models.Sequential()\n",
    "    cnn.add(base_model)\n",
    "    cnn.add(layers.Flatten())\n",
    "    model = models.Sequential()\n",
    "\n",
    "    model.add(layers.TimeDistributed(cnn,  input_shape=(30, 160, 160, 3)))\n",
    "    model.add(layers.LSTM(30 , return_sequences= True))\n",
    "\n",
    "    model.add(layers.TimeDistributed(layers.Dense(90)))\n",
    "    model.add(layers.Dropout(0.1))\n",
    "\n",
    "    model.add(layers.GlobalAveragePooling1D())\n",
    "\n",
    "    model.add(layers.Dense(512, activation='relu'))\n",
    "    model.add(layers.Dropout(0.3))\n",
    "\n",
    "    model.add(layers.Dense(num_classes, activation=\"sigmoid\"))\n",
    "\n",
    "    adam = optimizers.Adam(lr=0.0005, beta_1=0.9, beta_2=0.999, epsilon=1e-08)\n",
    "    model.load_weights(wight)\n",
    "    rms = optimizers.RMSprop()\n",
    "\n",
    "    model.compile(loss='binary_crossentropy', optimizer=adam, metrics=[\"accuracy\"])\n",
    "\n",
    "    return model\n",
    "model = mamon_videoFightModel2(tf)"
   ]
  },
  {
   "cell_type": "code",
   "execution_count": 22,
   "metadata": {},
   "outputs": [
    {
     "name": "stdout",
     "output_type": "stream",
     "text": [
      "hellooo\n",
      "checking \n",
      "checking \n",
      "checking \n",
      "checking \n",
      "checking \n",
      "checking \n",
      "checking \n",
      "Violence detected here...\n",
      "checking \n",
      "Violence detected here...\n",
      "checking \n",
      "Violence detected here...\n",
      "checking \n",
      "checking \n",
      "checking \n",
      "checking \n",
      "checking \n",
      "checking \n",
      "checking \n",
      "Violence detected here...\n",
      "checking \n",
      "checking \n",
      "Violence detected here...\n",
      "checking \n",
      "Violence detected here...\n",
      "checking \n",
      "checking \n",
      "checking \n",
      "checking \n",
      "checking \n",
      "checking \n",
      "Violence detected here...\n",
      "checking \n",
      "Violence detected here...\n",
      "checking \n",
      "checking \n",
      "checking \n",
      "checking \n",
      "checking \n",
      "checking \n",
      "no frame ****\n"
     ]
    }
   ],
   "source": [
    "#### import cv2\n",
    "from skimage.transform import resize\n",
    "import numpy as np\n",
    "print(\"hellooo\")\n",
    "cap = cv2.VideoCapture('/edgar1/fight_detection/Real-Time-Violence-Detection-in-Video-/output_video.mp4')\n",
    "i = 0\n",
    "frames = np.zeros((30, 160, 160, 3), dtype=np.float)\n",
    "old = []\n",
    "j = 0\n",
    "\n",
    "while True:\n",
    "    ret, frame = cap.read()\n",
    "\n",
    "    if not ret:\n",
    "        print(\"no frame ****\")\n",
    "        break  # Break if there are no more frames\n",
    "        \n",
    "\n",
    "    font = cv2.FONT_HERSHEY_SIMPLEX\n",
    "\n",
    "    if i > 29:\n",
    "        print(\"checking \")\n",
    "        ysdatav2 = np.zeros((1, 30, 160, 160, 3), dtype=np.float)\n",
    "        ysdatav2[0][:][:] = frames\n",
    "        # Assuming you have a pred_fight function defined\n",
    "        predaction = pred_fight(model, ysdatav2, acuracy=0.975)\n",
    "        # Perform actions based on the prediction\n",
    "\n",
    "        if predaction[0] == True:\n",
    "            cv2.putText(frame,\n",
    "                        'Violence Detected... Violence.. violence',\n",
    "                        (50, 50),\n",
    "                        font, 3,\n",
    "                        (0, 255, 255),\n",
    "                        2,\n",
    "                        cv2.LINE_4)\n",
    "            #cv2.imshow('video', frame)\n",
    "            print('Violence detected here...')\n",
    "            fourcc = cv2.VideoWriter_fourcc(*'XVID')\n",
    "            vio = cv2.VideoWriter(f\"./videos/output-{j}.avi\", fourcc, 10.0, (fwidth, fheight))\n",
    "            for frameinss in old:\n",
    "                vio.write(frameinss)\n",
    "            vio.release()\n",
    "\n",
    "        i = 0\n",
    "        j += 1\n",
    "        frames = np.zeros((30, 160, 160, 3), dtype=np.float)\n",
    "        old = []\n",
    "    else:\n",
    "        # Check if frame is not None before processing\n",
    "        if frame is not None:\n",
    "            frm = resize(frame, (160, 160, 3))\n",
    "            old.append(frame)\n",
    "            fshape = frame.shape\n",
    "            fheight = fshape[0]\n",
    "            fwidth = fshape[1]\n",
    "            \n",
    "            frm = np.expand_dims(frm, axis=0)\n",
    "            if np.max(frm) > 1:\n",
    "                frm = frm / 255.0\n",
    "            frames[i][:] = frm\n",
    "\n",
    "            i += 1\n",
    "\n",
    "    #cv2.imshow('video', frame)\n",
    "\n",
    "    #if cv2.waitKey(1) & 0xFF == ord('q'):\n",
    "    #    break\n",
    "\n",
    "#cap.release()\n",
    "#cv2.destroyAllWindows()\n"
   ]
  },
  {
   "cell_type": "code",
   "execution_count": 16,
   "metadata": {},
   "outputs": [
    {
     "name": "stdout",
     "output_type": "stream",
     "text": [
      "started at  1706088586748\n",
      "(30, 160, 160, 3)\n"
     ]
    },
    {
     "ename": "UnboundLocalError",
     "evalue": "local variable 'frame' referenced before assignment",
     "output_type": "error",
     "traceback": [
      "\u001b[0;31m---------------------------------------------------------------------------\u001b[0m",
      "\u001b[0;31mUnboundLocalError\u001b[0m                         Traceback (most recent call last)",
      "\u001b[0;32m<ipython-input-16-46e6e2eb799f>\u001b[0m in \u001b[0;36m<module>\u001b[0;34m\u001b[0m\n\u001b[1;32m      2\u001b[0m \u001b[0mmillis\u001b[0m \u001b[0;34m=\u001b[0m \u001b[0mint\u001b[0m\u001b[0;34m(\u001b[0m\u001b[0mround\u001b[0m\u001b[0;34m(\u001b[0m\u001b[0mtime\u001b[0m\u001b[0;34m.\u001b[0m\u001b[0mtime\u001b[0m\u001b[0;34m(\u001b[0m\u001b[0;34m)\u001b[0m \u001b[0;34m*\u001b[0m \u001b[0;36m1000\u001b[0m\u001b[0;34m)\u001b[0m\u001b[0;34m)\u001b[0m\u001b[0;34m\u001b[0m\u001b[0;34m\u001b[0m\u001b[0m\n\u001b[1;32m      3\u001b[0m \u001b[0mprint\u001b[0m\u001b[0;34m(\u001b[0m\u001b[0;34m\"started at \"\u001b[0m \u001b[0;34m,\u001b[0m \u001b[0mmillis\u001b[0m\u001b[0;34m)\u001b[0m\u001b[0;34m\u001b[0m\u001b[0;34m\u001b[0m\u001b[0m\n\u001b[0;32m----> 4\u001b[0;31m \u001b[0mvid\u001b[0m \u001b[0;34m=\u001b[0m \u001b[0mvideo_mamonreader\u001b[0m\u001b[0;34m(\u001b[0m\u001b[0mcv2\u001b[0m\u001b[0;34m,\u001b[0m\u001b[0;34m'dvpalfight.dvd'\u001b[0m\u001b[0;34m)\u001b[0m\u001b[0;34m\u001b[0m\u001b[0;34m\u001b[0m\u001b[0m\n\u001b[0m\u001b[1;32m      5\u001b[0m \u001b[0mmillis2\u001b[0m \u001b[0;34m=\u001b[0m \u001b[0mint\u001b[0m\u001b[0;34m(\u001b[0m\u001b[0mround\u001b[0m\u001b[0;34m(\u001b[0m\u001b[0mtime\u001b[0m\u001b[0;34m.\u001b[0m\u001b[0mtime\u001b[0m\u001b[0;34m(\u001b[0m\u001b[0;34m)\u001b[0m \u001b[0;34m*\u001b[0m \u001b[0;36m1000\u001b[0m\u001b[0;34m)\u001b[0m\u001b[0;34m)\u001b[0m\u001b[0;34m\u001b[0m\u001b[0;34m\u001b[0m\u001b[0m\n\u001b[1;32m      6\u001b[0m \u001b[0mprint\u001b[0m\u001b[0;34m(\u001b[0m\u001b[0;34m\"time processing \"\u001b[0m \u001b[0;34m,\u001b[0m \u001b[0mmillis2\u001b[0m \u001b[0;34m-\u001b[0m \u001b[0mmillis\u001b[0m\u001b[0;34m)\u001b[0m\u001b[0;34m\u001b[0m\u001b[0;34m\u001b[0m\u001b[0m\n",
      "\u001b[0;32m/edgar1/fight_detection/Real-Time-Violence-Detection-in-Video-/mamonfight22.py\u001b[0m in \u001b[0;36mvideo_mamonreader\u001b[0;34m(cv2, filename)\u001b[0m\n\u001b[1;32m     12\u001b[0m     \u001b[0;32melse\u001b[0m\u001b[0;34m:\u001b[0m\u001b[0;34m\u001b[0m\u001b[0;34m\u001b[0m\u001b[0m\n\u001b[1;32m     13\u001b[0m         \u001b[0mrval\u001b[0m \u001b[0;34m=\u001b[0m \u001b[0;32mFalse\u001b[0m\u001b[0;34m\u001b[0m\u001b[0;34m\u001b[0m\u001b[0m\n\u001b[0;32m---> 14\u001b[0;31m     \u001b[0mfrm\u001b[0m \u001b[0;34m=\u001b[0m \u001b[0mresize\u001b[0m\u001b[0;34m(\u001b[0m\u001b[0mframe\u001b[0m\u001b[0;34m,\u001b[0m\u001b[0;34m(\u001b[0m\u001b[0;36m160\u001b[0m\u001b[0;34m,\u001b[0m\u001b[0;36m160\u001b[0m\u001b[0;34m,\u001b[0m\u001b[0;36m3\u001b[0m\u001b[0;34m)\u001b[0m\u001b[0;34m)\u001b[0m\u001b[0;34m\u001b[0m\u001b[0;34m\u001b[0m\u001b[0m\n\u001b[0m\u001b[1;32m     15\u001b[0m     \u001b[0mfrm\u001b[0m \u001b[0;34m=\u001b[0m \u001b[0mnp\u001b[0m\u001b[0;34m.\u001b[0m\u001b[0mexpand_dims\u001b[0m\u001b[0;34m(\u001b[0m\u001b[0mfrm\u001b[0m\u001b[0;34m,\u001b[0m\u001b[0maxis\u001b[0m\u001b[0;34m=\u001b[0m\u001b[0;36m0\u001b[0m\u001b[0;34m)\u001b[0m\u001b[0;34m\u001b[0m\u001b[0;34m\u001b[0m\u001b[0m\n\u001b[1;32m     16\u001b[0m     \u001b[0;32mif\u001b[0m\u001b[0;34m(\u001b[0m\u001b[0mnp\u001b[0m\u001b[0;34m.\u001b[0m\u001b[0mmax\u001b[0m\u001b[0;34m(\u001b[0m\u001b[0mfrm\u001b[0m\u001b[0;34m)\u001b[0m\u001b[0;34m>\u001b[0m\u001b[0;36m1\u001b[0m\u001b[0;34m)\u001b[0m\u001b[0;34m:\u001b[0m\u001b[0;34m\u001b[0m\u001b[0;34m\u001b[0m\u001b[0m\n",
      "\u001b[0;31mUnboundLocalError\u001b[0m: local variable 'frame' referenced before assignment"
     ]
    }
   ],
   "source": [
    "import time\n",
    "millis = int(round(time.time() * 1000))\n",
    "print(\"started at \" , millis)\n",
    "vid = video_mamonreader(cv2,'dvpalfight.dvd')\n",
    "millis2 = int(round(time.time() * 1000))\n",
    "print(\"time processing \" , millis2 - millis)"
   ]
  },
  {
   "cell_type": "code",
   "execution_count": null,
   "metadata": {},
   "outputs": [],
   "source": [
    "datav = np.zeros((1, 30, 160, 160, 3), dtype=np.float)"
   ]
  },
  {
   "cell_type": "code",
   "execution_count": null,
   "metadata": {},
   "outputs": [],
   "source": [
    "datav[0][:][:] = vid"
   ]
  },
  {
   "cell_type": "code",
   "execution_count": null,
   "metadata": {},
   "outputs": [],
   "source": [
    "millis = int(round(time.time() * 1000))\n",
    "print(\"started at \" , millis)\n",
    "print(pred_fight(model,datav,acuracy=0.6))\n",
    "millis2 = int(round(time.time() * 1000))\n",
    "print(\"time processing \" , millis2 - millis)"
   ]
  },
  {
   "cell_type": "code",
   "execution_count": null,
   "metadata": {},
   "outputs": [],
   "source": [
    "def video_mamonreader(cv2,filename):\n",
    "    frames = np.zeros((30, 160, 160, 3), dtype=np.float)\n",
    "    i=0\n",
    "    print(frames.shape)\n",
    "    vc = cv2.VideoCapture(filename)\n",
    "    if vc.isOpened():\n",
    "        rval , frame = vc.read()\n",
    "    else:\n",
    "        rval = False\n",
    "    frm = resize(frame,(160,160,3))\n",
    "    frm = np.expand_dims(frm,axis=0)\n",
    "    if(np.max(frm)>1):\n",
    "        frm = frm/255.0\n",
    "    frames[i][:] = frm\n",
    "    i +=1\n",
    "    print(\"reading video\")\n",
    "    while i < 30:\n",
    "        rval, frame = vc.read()\n",
    "        frm = resize(frame,(160,160,3))\n",
    "        frm = np.expand_dims(frm,axis=0)\n",
    "        if(np.max(frm)>1):\n",
    "            frm = frm/255.0\n",
    "        frames[i][:] = frm\n",
    "        i +=1\n",
    "    return frames"
   ]
  },
  {
   "cell_type": "code",
   "execution_count": null,
   "metadata": {},
   "outputs": [],
   "source": [
    "novid = video_mamonreader(cv2,'nofight.mp4')"
   ]
  },
  {
   "cell_type": "code",
   "execution_count": null,
   "metadata": {},
   "outputs": [],
   "source": [
    "nodatav = np.zeros((1, 40, 170, 170, 3), dtype=np.float)"
   ]
  },
  {
   "cell_type": "code",
   "execution_count": null,
   "metadata": {},
   "outputs": [],
   "source": [
    "nodatav[0][:][:] = novid"
   ]
  },
  {
   "cell_type": "code",
   "execution_count": null,
   "metadata": {},
   "outputs": [],
   "source": [
    "pred_fight(model,nodatav,acuracy=0.6)"
   ]
  },
  {
   "cell_type": "code",
   "execution_count": null,
   "metadata": {},
   "outputs": [],
   "source": []
  },
  {
   "cell_type": "code",
   "execution_count": null,
   "metadata": {},
   "outputs": [],
   "source": [
    "ysvid2 = video_mamonreader(cv2,'hdfight.mp4')"
   ]
  },
  {
   "cell_type": "code",
   "execution_count": null,
   "metadata": {},
   "outputs": [],
   "source": [
    "ysdatav2 = np.zeros((1, 30, 160, 160, 3), dtype=np.float)"
   ]
  },
  {
   "cell_type": "code",
   "execution_count": null,
   "metadata": {},
   "outputs": [],
   "source": [
    "ysdatav2[0][:][:] = ysvid2"
   ]
  },
  {
   "cell_type": "code",
   "execution_count": null,
   "metadata": {},
   "outputs": [],
   "source": [
    "import time\n",
    "\n",
    "millis = int(round(time.time() * 1000))\n",
    "print(\"started at \" , millis)\n",
    "predaction = pred_fight(model,ysdatav2,acuracy=0.9)\n",
    "print(predaction)\n",
    "millis2 = int(round(time.time() * 1000))\n",
    "print(\"time processing \" , millis2 - millis)\n"
   ]
  },
  {
   "cell_type": "code",
   "execution_count": null,
   "metadata": {},
   "outputs": [],
   "source": [
    "if predaction[0] == True:\n",
    "    print('violence')"
   ]
  },
  {
   "cell_type": "code",
   "execution_count": null,
   "metadata": {},
   "outputs": [],
   "source": [
    "novid3 = video_mamonreader(cv2,'golsss.mp4')"
   ]
  },
  {
   "cell_type": "code",
   "execution_count": null,
   "metadata": {},
   "outputs": [],
   "source": [
    "nodatav3 = np.zeros((1, 30, 160, 160, 3), dtype=np.float)\n",
    "nodatav3[0][:][:] = novid3"
   ]
  },
  {
   "cell_type": "code",
   "execution_count": null,
   "metadata": {},
   "outputs": [],
   "source": [
    "millis = int(round(time.time() * 1000))\n",
    "print(\"started at \" , millis)\n",
    "print(pred_fight(model,nodatav3,acuracy=0.8))\n",
    "millis2 = int(round(time.time() * 1000))\n",
    "print(\"time processing \" , millis2 - millis)\n"
   ]
  },
  {
   "cell_type": "code",
   "execution_count": null,
   "metadata": {},
   "outputs": [],
   "source": [
    "\n",
    "novid4 = video_mamonreader(cv2,'dvpalfight.dvd')"
   ]
  },
  {
   "cell_type": "code",
   "execution_count": null,
   "metadata": {},
   "outputs": [],
   "source": [
    "nodatav4 = np.zeros((1, 30, 160, 160, 3), dtype=np.float)\n",
    "nodatav4[0][:][:] = novid4"
   ]
  },
  {
   "cell_type": "code",
   "execution_count": null,
   "metadata": {},
   "outputs": [],
   "source": [
    "millis = int(round(time.time() * 1000))\n",
    "print(\"started at \" , millis)\n",
    "print(pred_fight(model,nodatav4,acuracy=0.9))\n",
    "millis2 = int(round(time.time() * 1000))\n",
    "print(\"time processing \" , millis2 - millis)"
   ]
  },
  {
   "cell_type": "code",
   "execution_count": null,
   "metadata": {},
   "outputs": [],
   "source": []
  },
  {
   "cell_type": "code",
   "execution_count": null,
   "metadata": {},
   "outputs": [],
   "source": []
  },
  {
   "cell_type": "code",
   "execution_count": null,
   "metadata": {},
   "outputs": [],
   "source": []
  },
  {
   "cell_type": "code",
   "execution_count": null,
   "metadata": {},
   "outputs": [],
   "source": []
  },
  {
   "cell_type": "code",
   "execution_count": null,
   "metadata": {},
   "outputs": [],
   "source": []
  }
 ],
 "metadata": {
  "kernelspec": {
   "display_name": "Python 3",
   "language": "python",
   "name": "python3"
  },
  "language_info": {
   "codemirror_mode": {
    "name": "ipython",
    "version": 3
   },
   "file_extension": ".py",
   "mimetype": "text/x-python",
   "name": "python",
   "nbconvert_exporter": "python",
   "pygments_lexer": "ipython3",
   "version": "3.6.15"
  },
  "vscode": {
   "interpreter": {
    "hash": "0e590a11bc857468b26d427738bad89c2fb2f50e18494f79e554df2b61609526"
   }
  }
 },
 "nbformat": 4,
 "nbformat_minor": 2
}
